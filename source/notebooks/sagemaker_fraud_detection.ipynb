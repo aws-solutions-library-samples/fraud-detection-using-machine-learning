{
 "cells": [
  {
   "cell_type": "markdown",
   "metadata": {},
   "source": [
    "# Credit card fraud detector"
   ]
  },
  {
   "cell_type": "markdown",
   "metadata": {},
   "source": [
    "In this solution we will build the core of a credit card fraud detection system using SageMaker. We will start by training an anomaly detection algorithm, then proceed to train two XGBoost models for supervised training. To deal with the highly unbalanced data common in fraud detection, our first model will use re-weighting of the data, and the second will use re-sampling, using the popular SMOTE technique for oversampling the rare fraud data.\n",
    "\n",
    "Our solution includes an example of making calls to a REST API to simulate a real deployment, using AWS Lambda to trigger both the anomaly detection and XGBoost model.\n",
    "\n",
    "You can select Run->Run All from the menu to run all cells in Studio (or Cell->Run All in a SageMaker Notebook Instance)."
   ]
  },
  {
   "cell_type": "markdown",
   "metadata": {},
   "source": [
    "**Note**: When running this notebook on SageMaker Studio, you should make sure the 'SageMaker JumpStart Data Science 1.0' image/kernel is used."
   ]
  },
  {
   "cell_type": "markdown",
   "metadata": {},
   "source": [
    "### Set up environment"
   ]
  },
  {
   "cell_type": "code",
   "execution_count": 1,
   "metadata": {},
   "outputs": [],
   "source": [
    "import sys\n",
    "sys.path.insert(0, './src/')"
   ]
  },
  {
   "cell_type": "markdown",
   "metadata": {},
   "source": [
    "## Investigate and process the data"
   ]
  },
  {
   "cell_type": "markdown",
   "metadata": {},
   "source": [
    "Let's start by reading in the credit card fraud data set."
   ]
  },
  {
   "cell_type": "code",
   "execution_count": 2,
   "metadata": {},
   "outputs": [],
   "source": [
    "import boto3\n",
    "from package import config\n",
    "\n",
    "instance_type = 'ml.m5.large'\n",
    "s3 = boto3.resource('s3', region_name=config.AWS_REGION)\n",
    "object = s3.Object(f\"{config.SOLUTIONS_S3_BUCKET}-{config.AWS_REGION}\",f\"{config.SOLUTION_NAME}/data/creditcardfraud.zip\")\n",
    "object.download_file(\"creditcardfraud.zip\")"
   ]
  },
  {
   "cell_type": "code",
   "execution_count": 3,
   "metadata": {},
   "outputs": [],
   "source": [
    "from zipfile import ZipFile\n",
    "\n",
    "with ZipFile('creditcardfraud.zip', 'r') as zf:\n",
    "    zf.extractall()"
   ]
  },
  {
   "cell_type": "code",
   "execution_count": 4,
   "metadata": {},
   "outputs": [],
   "source": [
    "import numpy as np \n",
    "import pandas as pd\n",
    "\n",
    "data = pd.read_csv('creditcard.csv', delimiter=',')"
   ]
  },
  {
   "cell_type": "markdown",
   "metadata": {},
   "source": [
    "Let's take a peek at our data (we only show a subset of the columns in the table):"
   ]
  },
  {
   "cell_type": "code",
   "execution_count": 5,
   "metadata": {},
   "outputs": [
    {
     "name": "stdout",
     "output_type": "stream",
     "text": [
      "Index(['Time', 'V1', 'V2', 'V3', 'V4', 'V5', 'V6', 'V7', 'V8', 'V9', 'V10',\n",
      "       'V11', 'V12', 'V13', 'V14', 'V15', 'V16', 'V17', 'V18', 'V19', 'V20',\n",
      "       'V21', 'V22', 'V23', 'V24', 'V25', 'V26', 'V27', 'V28', 'Amount',\n",
      "       'Class'],\n",
      "      dtype='object')\n"
     ]
    },
    {
     "data": {
      "text/html": [
       "<div>\n",
       "<style scoped>\n",
       "    .dataframe tbody tr th:only-of-type {\n",
       "        vertical-align: middle;\n",
       "    }\n",
       "\n",
       "    .dataframe tbody tr th {\n",
       "        vertical-align: top;\n",
       "    }\n",
       "\n",
       "    .dataframe thead th {\n",
       "        text-align: right;\n",
       "    }\n",
       "</style>\n",
       "<table border=\"1\" class=\"dataframe\">\n",
       "  <thead>\n",
       "    <tr style=\"text-align: right;\">\n",
       "      <th></th>\n",
       "      <th>Time</th>\n",
       "      <th>V1</th>\n",
       "      <th>V2</th>\n",
       "      <th>V27</th>\n",
       "      <th>V28</th>\n",
       "      <th>Amount</th>\n",
       "      <th>Class</th>\n",
       "    </tr>\n",
       "  </thead>\n",
       "  <tbody>\n",
       "    <tr>\n",
       "      <th>count</th>\n",
       "      <td>284807.000000</td>\n",
       "      <td>2.848070e+05</td>\n",
       "      <td>2.848070e+05</td>\n",
       "      <td>2.848070e+05</td>\n",
       "      <td>2.848070e+05</td>\n",
       "      <td>284807.000000</td>\n",
       "      <td>284807.000000</td>\n",
       "    </tr>\n",
       "    <tr>\n",
       "      <th>mean</th>\n",
       "      <td>94813.859575</td>\n",
       "      <td>1.168375e-15</td>\n",
       "      <td>3.416908e-16</td>\n",
       "      <td>-3.660091e-16</td>\n",
       "      <td>-1.227390e-16</td>\n",
       "      <td>88.349619</td>\n",
       "      <td>0.001727</td>\n",
       "    </tr>\n",
       "    <tr>\n",
       "      <th>std</th>\n",
       "      <td>47488.145955</td>\n",
       "      <td>1.958696e+00</td>\n",
       "      <td>1.651309e+00</td>\n",
       "      <td>4.036325e-01</td>\n",
       "      <td>3.300833e-01</td>\n",
       "      <td>250.120109</td>\n",
       "      <td>0.041527</td>\n",
       "    </tr>\n",
       "    <tr>\n",
       "      <th>min</th>\n",
       "      <td>0.000000</td>\n",
       "      <td>-5.640751e+01</td>\n",
       "      <td>-7.271573e+01</td>\n",
       "      <td>-2.256568e+01</td>\n",
       "      <td>-1.543008e+01</td>\n",
       "      <td>0.000000</td>\n",
       "      <td>0.000000</td>\n",
       "    </tr>\n",
       "    <tr>\n",
       "      <th>25%</th>\n",
       "      <td>54201.500000</td>\n",
       "      <td>-9.203734e-01</td>\n",
       "      <td>-5.985499e-01</td>\n",
       "      <td>-7.083953e-02</td>\n",
       "      <td>-5.295979e-02</td>\n",
       "      <td>5.600000</td>\n",
       "      <td>0.000000</td>\n",
       "    </tr>\n",
       "    <tr>\n",
       "      <th>50%</th>\n",
       "      <td>84692.000000</td>\n",
       "      <td>1.810880e-02</td>\n",
       "      <td>6.548556e-02</td>\n",
       "      <td>1.342146e-03</td>\n",
       "      <td>1.124383e-02</td>\n",
       "      <td>22.000000</td>\n",
       "      <td>0.000000</td>\n",
       "    </tr>\n",
       "    <tr>\n",
       "      <th>75%</th>\n",
       "      <td>139320.500000</td>\n",
       "      <td>1.315642e+00</td>\n",
       "      <td>8.037239e-01</td>\n",
       "      <td>9.104512e-02</td>\n",
       "      <td>7.827995e-02</td>\n",
       "      <td>77.165000</td>\n",
       "      <td>0.000000</td>\n",
       "    </tr>\n",
       "    <tr>\n",
       "      <th>max</th>\n",
       "      <td>172792.000000</td>\n",
       "      <td>2.454930e+00</td>\n",
       "      <td>2.205773e+01</td>\n",
       "      <td>3.161220e+01</td>\n",
       "      <td>3.384781e+01</td>\n",
       "      <td>25691.160000</td>\n",
       "      <td>1.000000</td>\n",
       "    </tr>\n",
       "  </tbody>\n",
       "</table>\n",
       "</div>"
      ],
      "text/plain": [
       "                Time            V1            V2           V27           V28  \\\n",
       "count  284807.000000  2.848070e+05  2.848070e+05  2.848070e+05  2.848070e+05   \n",
       "mean    94813.859575  1.168375e-15  3.416908e-16 -3.660091e-16 -1.227390e-16   \n",
       "std     47488.145955  1.958696e+00  1.651309e+00  4.036325e-01  3.300833e-01   \n",
       "min         0.000000 -5.640751e+01 -7.271573e+01 -2.256568e+01 -1.543008e+01   \n",
       "25%     54201.500000 -9.203734e-01 -5.985499e-01 -7.083953e-02 -5.295979e-02   \n",
       "50%     84692.000000  1.810880e-02  6.548556e-02  1.342146e-03  1.124383e-02   \n",
       "75%    139320.500000  1.315642e+00  8.037239e-01  9.104512e-02  7.827995e-02   \n",
       "max    172792.000000  2.454930e+00  2.205773e+01  3.161220e+01  3.384781e+01   \n",
       "\n",
       "              Amount          Class  \n",
       "count  284807.000000  284807.000000  \n",
       "mean       88.349619       0.001727  \n",
       "std       250.120109       0.041527  \n",
       "min         0.000000       0.000000  \n",
       "25%         5.600000       0.000000  \n",
       "50%        22.000000       0.000000  \n",
       "75%        77.165000       0.000000  \n",
       "max     25691.160000       1.000000  "
      ]
     },
     "execution_count": 5,
     "metadata": {},
     "output_type": "execute_result"
    }
   ],
   "source": [
    "print(data.columns)\n",
    "data[['Time', 'V1', 'V2', 'V27', 'V28', 'Amount', 'Class']].describe()"
   ]
  },
  {
   "cell_type": "markdown",
   "metadata": {},
   "source": [
    "The dataset contains\n",
    "only numerical features, because the original features have been transformed using PCA, to protect user privacy. As a result,\n",
    "the dataset contains 28 PCA components, V1-V28, and two features that haven't been transformed, _Amount_ and _Time_.\n",
    "_Amount_ refers to the transaction amount, and _Time_ is the seconds elapsed between any transaction in the data\n",
    "and the first transaction.\n",
    "\n",
    "The class column corresponds to whether or not a transaction is fraudulent. We see that the majority of data is non-fraudulent with only $492$ ($0.173\\%$) of the data corresponding to fraudulent examples, out of the total of 284,807 examples in the data."
   ]
  },
  {
   "cell_type": "code",
   "execution_count": 6,
   "metadata": {},
   "outputs": [
    {
     "name": "stdout",
     "output_type": "stream",
     "text": [
      "Number of frauds:  492\n",
      "Number of non-frauds:  284315\n",
      "Percentage of fradulent data: 0.1727485630620034\n"
     ]
    }
   ],
   "source": [
    "nonfrauds, frauds = data.groupby('Class').size()\n",
    "print('Number of frauds: ', frauds)\n",
    "print('Number of non-frauds: ', nonfrauds)\n",
    "print('Percentage of fradulent data:', 100.*frauds/(frauds + nonfrauds))"
   ]
  },
  {
   "cell_type": "markdown",
   "metadata": {},
   "source": [
    "We already know that the columns $V_i$ have been normalized to have $0$ mean and unit standard deviation as the result of a PCA."
   ]
  },
  {
   "cell_type": "code",
   "execution_count": 7,
   "metadata": {},
   "outputs": [],
   "source": [
    "feature_columns = data.columns[:-1]\n",
    "label_column = data.columns[-1]\n",
    "\n",
    "features = data[feature_columns].values.astype('float32')\n",
    "labels = (data[label_column].values).astype('float32')"
   ]
  },
  {
   "cell_type": "markdown",
   "metadata": {},
   "source": [
    "Next, we will prepare our data for loading and training."
   ]
  },
  {
   "cell_type": "markdown",
   "metadata": {},
   "source": [
    "## Training"
   ]
  },
  {
   "cell_type": "markdown",
   "metadata": {},
   "source": [
    "We will split our dataset into a train and test to evaluate the performance of our models. It's important to do so _before_ any techniques meant to alleviate the class imbalance are used. This ensures that we don't leak information from the test set into the train set."
   ]
  },
  {
   "cell_type": "code",
   "execution_count": 8,
   "metadata": {},
   "outputs": [],
   "source": [
    "from sklearn.model_selection import train_test_split\n",
    "\n",
    "X_train, X_test, y_train, y_test = train_test_split(\n",
    "    features, labels, test_size=0.1, random_state=42)"
   ]
  },
  {
   "cell_type": "markdown",
   "metadata": {},
   "source": [
    "> Note: If you are bringing your own data to this solution and they include categorical data, that have strings as values, you'd need to one-hot encode these values first using for example sklearn's [OneHotEncoder](https://scikit-learn.org/stable/modules/preprocessing.html#preprocessing-categorical-features), as XGBoost only supports numerical data."
   ]
  },
  {
   "cell_type": "markdown",
   "metadata": {},
   "source": [
    "## Unsupervised Learning"
   ]
  },
  {
   "cell_type": "markdown",
   "metadata": {},
   "source": [
    "In a fraud detection scenario, commonly we will have very few labeled examples, and it's possible that labeling fraud takes a very long time. We would like then to extract information from the unlabeled data we have at hand as well. _Anomaly detection_ is a form of unsupervised learning where we try to identify anomalous examples based solely on their feature characteristics. Random Cut Forest is a state-of-the-art anomaly detection algorithm that is both accurate and scalable. We will train such a model on our training data and evaluate its performance on our test set."
   ]
  },
  {
   "cell_type": "code",
   "execution_count": 9,
   "metadata": {},
   "outputs": [
    {
     "name": "stdout",
     "output_type": "stream",
     "text": [
      "sagemaker.config INFO - Not applying SDK defaults from location: /etc/xdg/sagemaker/config.yaml\n",
      "sagemaker.config INFO - Not applying SDK defaults from location: /home/ec2-user/.config/sagemaker/config.yaml\n"
     ]
    }
   ],
   "source": [
    "import os\n",
    "import sagemaker\n",
    "from package import config\n",
    "\n",
    "session = sagemaker.Session()\n",
    "bucket = config.MODEL_DATA_S3_BUCKET\n",
    "prefix = 'fraud-classifier'"
   ]
  },
  {
   "cell_type": "code",
   "execution_count": 11,
   "metadata": {},
   "outputs": [],
   "source": [
    "from sagemaker import RandomCutForest\n",
    "\n",
    "# specify general training job information\n",
    "rcf = RandomCutForest(role=config.SAGEMAKER_IAM_ROLE,\n",
    "                      instance_count=1,\n",
    "                      instance_type=instance_type,\n",
    "                      data_location='s3://{}/{}/'.format(bucket, prefix),\n",
    "                      output_path='s3://{}/{}/output'.format(bucket, prefix),\n",
    "                      base_job_name=\"{}-rcf\".format(config.SOLUTION_PREFIX),\n",
    "                      num_samples_per_tree=512,\n",
    "                      num_trees=50)"
   ]
  },
  {
   "cell_type": "markdown",
   "metadata": {
    "pycharm": {
     "name": "#%% md\n"
    }
   },
   "source": [
    "Now we are ready to fit the model. The below cell should take around 5 minutes to complete."
   ]
  },
  {
   "cell_type": "code",
   "execution_count": 12,
   "metadata": {
    "pycharm": {
     "name": "#%%\n"
    }
   },
   "outputs": [
    {
     "name": "stderr",
     "output_type": "stream",
     "text": [
      "INFO:sagemaker.image_uris:Same images used for training and inference. Defaulting to image scope: inference.\n",
      "INFO:sagemaker.image_uris:Ignoring unnecessary instance type: None.\n",
      "INFO:sagemaker:Creating training-job with name: sagemaker-soln-fdml-1-rcf-2024-07-30-18-04-47-906\n"
     ]
    },
    {
     "name": "stdout",
     "output_type": "stream",
     "text": [
      "2024-07-30 18:04:48 Starting - Starting the training job...\n",
      "2024-07-30 18:05:05 Starting - Preparing the instances for training...\n",
      "2024-07-30 18:05:27 Downloading - Downloading input data...\n",
      "2024-07-30 18:05:58 Downloading - Downloading the training image...............\n",
      "2024-07-30 18:08:39 Training - Training image download completed. Training in progress..\u001b[34mDocker entrypoint called with argument(s): train\u001b[0m\n",
      "\u001b[34mRunning default environment configuration script\u001b[0m\n",
      "\u001b[34m/opt/amazon/lib/python3.8/site-packages/mxnet/model.py:97: SyntaxWarning: \"is\" with a literal. Did you mean \"==\"?\n",
      "  if num_device is 1 and 'dist' not in kvstore:\u001b[0m\n",
      "\u001b[34m/opt/amazon/lib/python3.8/site-packages/scipy/optimize/_shgo.py:495: SyntaxWarning: \"is\" with a literal. Did you mean \"==\"?\n",
      "  if cons['type'] is 'ineq':\u001b[0m\n",
      "\u001b[34m/opt/amazon/lib/python3.8/site-packages/scipy/optimize/_shgo.py:743: SyntaxWarning: \"is not\" with a literal. Did you mean \"!=\"?\n",
      "  if len(self.X_min) is not 0:\u001b[0m\n",
      "\u001b[34m[07/30/2024 18:08:46 INFO 140575487043392] Reading default configuration from /opt/amazon/lib/python3.8/site-packages/algorithm/resources/default-conf.json: {'num_samples_per_tree': 256, 'num_trees': 100, 'force_dense': 'true', 'eval_metrics': ['accuracy', 'precision_recall_fscore'], 'epochs': 1, 'mini_batch_size': 1000, '_log_level': 'info', '_kvstore': 'dist_async', '_num_kv_servers': 'auto', '_num_gpus': 'auto', '_tuning_objective_metric': '', '_ftp_port': 8999}\u001b[0m\n",
      "\u001b[34m[07/30/2024 18:08:46 INFO 140575487043392] Merging with provided configuration from /opt/ml/input/config/hyperparameters.json: {'feature_dim': '30', 'mini_batch_size': '1000', 'num_samples_per_tree': '512', 'num_trees': '50'}\u001b[0m\n",
      "\u001b[34m[07/30/2024 18:08:46 INFO 140575487043392] Final configuration: {'num_samples_per_tree': '512', 'num_trees': '50', 'force_dense': 'true', 'eval_metrics': ['accuracy', 'precision_recall_fscore'], 'epochs': 1, 'mini_batch_size': '1000', '_log_level': 'info', '_kvstore': 'dist_async', '_num_kv_servers': 'auto', '_num_gpus': 'auto', '_tuning_objective_metric': '', '_ftp_port': 8999, 'feature_dim': '30'}\u001b[0m\n",
      "\u001b[34m[07/30/2024 18:08:46 WARNING 140575487043392] Loggers have already been setup.\u001b[0m\n",
      "\u001b[34m[07/30/2024 18:08:46 INFO 140575487043392] Launching parameter server for role scheduler\u001b[0m\n",
      "\u001b[34m[07/30/2024 18:08:46 INFO 140575487043392] {'ENVROOT': '/opt/amazon', 'PROTOCOL_BUFFERS_PYTHON_IMPLEMENTATION': 'cpp', 'HOSTNAME': 'ip-10-0-239-36.us-east-2.compute.internal', 'TRAINING_JOB_NAME': 'sagemaker-soln-fdml-1-rcf-2024-07-30-18-04-47-906', 'NVIDIA_REQUIRE_CUDA': 'cuda>=9.0', 'TRAINING_JOB_ARN': 'arn:aws:sagemaker:us-east-2:152840014785:training-job/sagemaker-soln-fdml-1-rcf-2024-07-30-18-04-47-906', 'AWS_CONTAINER_CREDENTIALS_RELATIVE_URI': '/v2/credentials/proxy-234350706bd2130487235f9a9ca20b3072db589dc2f325083cd603c4befb559e-customer', 'CANONICAL_ENVROOT': '/opt/amazon', 'PYTHONUNBUFFERED': 'TRUE', 'NVIDIA_VISIBLE_DEVICES': 'all', 'LD_LIBRARY_PATH': '/opt/amazon/lib/python3.8/site-packages/cv2/../../../../lib:/usr/local/nvidia/lib64:/opt/amazon/lib', 'MXNET_KVSTORE_BIGARRAY_BOUND': '400000000', 'NVIDIA_DRIVER_CAPABILITIES': 'compute,utility', 'SAGEMAKER_MANAGED_WARMPOOL_CACHE_DIRECTORY': '/opt/ml/sagemaker/warmpoolcache', 'PATH': '/opt/amazon/bin:/usr/local/nvidia/bin:/usr/local/sbin:/usr/local/bin:/usr/sbin:/usr/bin:/sbin:/bin', 'PWD': '/', 'LANG': 'en_US.utf8', 'AWS_REGION': 'us-east-2', 'SAGEMAKER_METRICS_DIRECTORY': '/opt/ml/output/metrics/sagemaker', 'CUDA_VERSION': '11.1', 'HOME': '/root', 'SHLVL': '1', 'CUDA_COMPAT_NDRIVER_SUPPORTED_VERSION': '455.32.00', 'PROTOCOL_BUFFERS_PYTHON_IMPLEMENTATION_VERSION': '2', 'OMP_NUM_THREADS': '1', 'DMLC_INTERFACE': 'eth0', 'SAGEMAKER_HTTP_PORT': '8080', 'SAGEMAKER_DATA_PATH': '/opt/ml', 'KMP_DUPLICATE_LIB_OK': 'True', 'KMP_INIT_AT_FORK': 'FALSE'}\u001b[0m\n",
      "\u001b[34m[07/30/2024 18:08:46 INFO 140575487043392] envs={'ENVROOT': '/opt/amazon', 'PROTOCOL_BUFFERS_PYTHON_IMPLEMENTATION': 'cpp', 'HOSTNAME': 'ip-10-0-239-36.us-east-2.compute.internal', 'TRAINING_JOB_NAME': 'sagemaker-soln-fdml-1-rcf-2024-07-30-18-04-47-906', 'NVIDIA_REQUIRE_CUDA': 'cuda>=9.0', 'TRAINING_JOB_ARN': 'arn:aws:sagemaker:us-east-2:152840014785:training-job/sagemaker-soln-fdml-1-rcf-2024-07-30-18-04-47-906', 'AWS_CONTAINER_CREDENTIALS_RELATIVE_URI': '/v2/credentials/proxy-234350706bd2130487235f9a9ca20b3072db589dc2f325083cd603c4befb559e-customer', 'CANONICAL_ENVROOT': '/opt/amazon', 'PYTHONUNBUFFERED': 'TRUE', 'NVIDIA_VISIBLE_DEVICES': 'all', 'LD_LIBRARY_PATH': '/opt/amazon/lib/python3.8/site-packages/cv2/../../../../lib:/usr/local/nvidia/lib64:/opt/amazon/lib', 'MXNET_KVSTORE_BIGARRAY_BOUND': '400000000', 'NVIDIA_DRIVER_CAPABILITIES': 'compute,utility', 'SAGEMAKER_MANAGED_WARMPOOL_CACHE_DIRECTORY': '/opt/ml/sagemaker/warmpoolcache', 'PATH': '/opt/amazon/bin:/usr/local/nvidia/bin:/usr/local/sbin:/usr/local/bin:/usr/sbin:/usr/bin:/sbin:/bin', 'PWD': '/', 'LANG': 'en_US.utf8', 'AWS_REGION': 'us-east-2', 'SAGEMAKER_METRICS_DIRECTORY': '/opt/ml/output/metrics/sagemaker', 'CUDA_VERSION': '11.1', 'HOME': '/root', 'SHLVL': '1', 'CUDA_COMPAT_NDRIVER_SUPPORTED_VERSION': '455.32.00', 'PROTOCOL_BUFFERS_PYTHON_IMPLEMENTATION_VERSION': '2', 'OMP_NUM_THREADS': '1', 'DMLC_INTERFACE': 'eth0', 'SAGEMAKER_HTTP_PORT': '8080', 'SAGEMAKER_DATA_PATH': '/opt/ml', 'KMP_DUPLICATE_LIB_OK': 'True', 'KMP_INIT_AT_FORK': 'FALSE', 'DMLC_ROLE': 'scheduler', 'DMLC_PS_ROOT_URI': '10.0.239.36', 'DMLC_PS_ROOT_PORT': '9000', 'DMLC_NUM_SERVER': '1', 'DMLC_NUM_WORKER': '1'}\u001b[0m\n",
      "\u001b[34m[07/30/2024 18:08:46 INFO 140575487043392] Launching parameter server for role server\u001b[0m\n",
      "\u001b[34m[07/30/2024 18:08:46 INFO 140575487043392] {'ENVROOT': '/opt/amazon', 'PROTOCOL_BUFFERS_PYTHON_IMPLEMENTATION': 'cpp', 'HOSTNAME': 'ip-10-0-239-36.us-east-2.compute.internal', 'TRAINING_JOB_NAME': 'sagemaker-soln-fdml-1-rcf-2024-07-30-18-04-47-906', 'NVIDIA_REQUIRE_CUDA': 'cuda>=9.0', 'TRAINING_JOB_ARN': 'arn:aws:sagemaker:us-east-2:152840014785:training-job/sagemaker-soln-fdml-1-rcf-2024-07-30-18-04-47-906', 'AWS_CONTAINER_CREDENTIALS_RELATIVE_URI': '/v2/credentials/proxy-234350706bd2130487235f9a9ca20b3072db589dc2f325083cd603c4befb559e-customer', 'CANONICAL_ENVROOT': '/opt/amazon', 'PYTHONUNBUFFERED': 'TRUE', 'NVIDIA_VISIBLE_DEVICES': 'all', 'LD_LIBRARY_PATH': '/opt/amazon/lib/python3.8/site-packages/cv2/../../../../lib:/usr/local/nvidia/lib64:/opt/amazon/lib', 'MXNET_KVSTORE_BIGARRAY_BOUND': '400000000', 'NVIDIA_DRIVER_CAPABILITIES': 'compute,utility', 'SAGEMAKER_MANAGED_WARMPOOL_CACHE_DIRECTORY': '/opt/ml/sagemaker/warmpoolcache', 'PATH': '/opt/amazon/bin:/usr/local/nvidia/bin:/usr/local/sbin:/usr/local/bin:/usr/sbin:/usr/bin:/sbin:/bin', 'PWD': '/', 'LANG': 'en_US.utf8', 'AWS_REGION': 'us-east-2', 'SAGEMAKER_METRICS_DIRECTORY': '/opt/ml/output/metrics/sagemaker', 'CUDA_VERSION': '11.1', 'HOME': '/root', 'SHLVL': '1', 'CUDA_COMPAT_NDRIVER_SUPPORTED_VERSION': '455.32.00', 'PROTOCOL_BUFFERS_PYTHON_IMPLEMENTATION_VERSION': '2', 'OMP_NUM_THREADS': '1', 'DMLC_INTERFACE': 'eth0', 'SAGEMAKER_HTTP_PORT': '8080', 'SAGEMAKER_DATA_PATH': '/opt/ml', 'KMP_DUPLICATE_LIB_OK': 'True', 'KMP_INIT_AT_FORK': 'FALSE'}\u001b[0m\n",
      "\u001b[34m[07/30/2024 18:08:46 INFO 140575487043392] envs={'ENVROOT': '/opt/amazon', 'PROTOCOL_BUFFERS_PYTHON_IMPLEMENTATION': 'cpp', 'HOSTNAME': 'ip-10-0-239-36.us-east-2.compute.internal', 'TRAINING_JOB_NAME': 'sagemaker-soln-fdml-1-rcf-2024-07-30-18-04-47-906', 'NVIDIA_REQUIRE_CUDA': 'cuda>=9.0', 'TRAINING_JOB_ARN': 'arn:aws:sagemaker:us-east-2:152840014785:training-job/sagemaker-soln-fdml-1-rcf-2024-07-30-18-04-47-906', 'AWS_CONTAINER_CREDENTIALS_RELATIVE_URI': '/v2/credentials/proxy-234350706bd2130487235f9a9ca20b3072db589dc2f325083cd603c4befb559e-customer', 'CANONICAL_ENVROOT': '/opt/amazon', 'PYTHONUNBUFFERED': 'TRUE', 'NVIDIA_VISIBLE_DEVICES': 'all', 'LD_LIBRARY_PATH': '/opt/amazon/lib/python3.8/site-packages/cv2/../../../../lib:/usr/local/nvidia/lib64:/opt/amazon/lib', 'MXNET_KVSTORE_BIGARRAY_BOUND': '400000000', 'NVIDIA_DRIVER_CAPABILITIES': 'compute,utility', 'SAGEMAKER_MANAGED_WARMPOOL_CACHE_DIRECTORY': '/opt/ml/sagemaker/warmpoolcache', 'PATH': '/opt/amazon/bin:/usr/local/nvidia/bin:/usr/local/sbin:/usr/local/bin:/usr/sbin:/usr/bin:/sbin:/bin', 'PWD': '/', 'LANG': 'en_US.utf8', 'AWS_REGION': 'us-east-2', 'SAGEMAKER_METRICS_DIRECTORY': '/opt/ml/output/metrics/sagemaker', 'CUDA_VERSION': '11.1', 'HOME': '/root', 'SHLVL': '1', 'CUDA_COMPAT_NDRIVER_SUPPORTED_VERSION': '455.32.00', 'PROTOCOL_BUFFERS_PYTHON_IMPLEMENTATION_VERSION': '2', 'OMP_NUM_THREADS': '1', 'DMLC_INTERFACE': 'eth0', 'SAGEMAKER_HTTP_PORT': '8080', 'SAGEMAKER_DATA_PATH': '/opt/ml', 'KMP_DUPLICATE_LIB_OK': 'True', 'KMP_INIT_AT_FORK': 'FALSE', 'DMLC_ROLE': 'server', 'DMLC_PS_ROOT_URI': '10.0.239.36', 'DMLC_PS_ROOT_PORT': '9000', 'DMLC_NUM_SERVER': '1', 'DMLC_NUM_WORKER': '1'}\u001b[0m\n",
      "\u001b[34m[07/30/2024 18:08:46 INFO 140575487043392] Environment: {'ENVROOT': '/opt/amazon', 'PROTOCOL_BUFFERS_PYTHON_IMPLEMENTATION': 'cpp', 'HOSTNAME': 'ip-10-0-239-36.us-east-2.compute.internal', 'TRAINING_JOB_NAME': 'sagemaker-soln-fdml-1-rcf-2024-07-30-18-04-47-906', 'NVIDIA_REQUIRE_CUDA': 'cuda>=9.0', 'TRAINING_JOB_ARN': 'arn:aws:sagemaker:us-east-2:152840014785:training-job/sagemaker-soln-fdml-1-rcf-2024-07-30-18-04-47-906', 'AWS_CONTAINER_CREDENTIALS_RELATIVE_URI': '/v2/credentials/proxy-234350706bd2130487235f9a9ca20b3072db589dc2f325083cd603c4befb559e-customer', 'CANONICAL_ENVROOT': '/opt/amazon', 'PYTHONUNBUFFERED': 'TRUE', 'NVIDIA_VISIBLE_DEVICES': 'all', 'LD_LIBRARY_PATH': '/opt/amazon/lib/python3.8/site-packages/cv2/../../../../lib:/usr/local/nvidia/lib64:/opt/amazon/lib', 'MXNET_KVSTORE_BIGARRAY_BOUND': '400000000', 'NVIDIA_DRIVER_CAPABILITIES': 'compute,utility', 'SAGEMAKER_MANAGED_WARMPOOL_CACHE_DIRECTORY': '/opt/ml/sagemaker/warmpoolcache', 'PATH': '/opt/amazon/bin:/usr/local/nvidia/bin:/usr/local/sbin:/usr/local/bin:/usr/sbin:/usr/bin:/sbin:/bin', 'PWD': '/', 'LANG': 'en_US.utf8', 'AWS_REGION': 'us-east-2', 'SAGEMAKER_METRICS_DIRECTORY': '/opt/ml/output/metrics/sagemaker', 'CUDA_VERSION': '11.1', 'HOME': '/root', 'SHLVL': '1', 'CUDA_COMPAT_NDRIVER_SUPPORTED_VERSION': '455.32.00', 'PROTOCOL_BUFFERS_PYTHON_IMPLEMENTATION_VERSION': '2', 'OMP_NUM_THREADS': '1', 'DMLC_INTERFACE': 'eth0', 'SAGEMAKER_HTTP_PORT': '8080', 'SAGEMAKER_DATA_PATH': '/opt/ml', 'KMP_DUPLICATE_LIB_OK': 'True', 'KMP_INIT_AT_FORK': 'FALSE', 'DMLC_ROLE': 'worker', 'DMLC_PS_ROOT_URI': '10.0.239.36', 'DMLC_PS_ROOT_PORT': '9000', 'DMLC_NUM_SERVER': '1', 'DMLC_NUM_WORKER': '1'}\u001b[0m\n",
      "\u001b[34mProcess 33 is a shell:scheduler.\u001b[0m\n",
      "\u001b[34mProcess 42 is a shell:server.\u001b[0m\n",
      "\u001b[34mProcess 8 is a worker.\u001b[0m\n",
      "\u001b[34m[07/30/2024 18:08:46 INFO 140575487043392] Using default worker.\u001b[0m\n",
      "\u001b[34m[07/30/2024 18:08:46 INFO 140575487043392] Loaded iterator creator application/x-recordio-protobuf for content type ('application/x-recordio-protobuf', '1.0')\u001b[0m\n",
      "\u001b[34m[07/30/2024 18:08:46 INFO 140575487043392] Checkpoint loading and saving are disabled.\u001b[0m\n",
      "\u001b[34m[07/30/2024 18:08:47 INFO 140575487043392] Verifying hyperparamemters...\u001b[0m\n",
      "\u001b[34m[07/30/2024 18:08:47 INFO 140575487043392] Hyperparameters are correct.\u001b[0m\n",
      "\u001b[34m[07/30/2024 18:08:47 INFO 140575487043392] Validating that feature_dim agrees with dimensions in training data...\u001b[0m\n",
      "\u001b[34m[07/30/2024 18:08:47 INFO 140575487043392] feature_dim is correct.\u001b[0m\n",
      "\u001b[34m[07/30/2024 18:08:47 INFO 140575487043392] Validating memory limits...\u001b[0m\n",
      "\u001b[34m[07/30/2024 18:08:47 INFO 140575487043392] Available memory in bytes: 6643937280\u001b[0m\n",
      "\u001b[34m[07/30/2024 18:08:47 INFO 140575487043392] Estimated sample size in bytes: 6144000\u001b[0m\n",
      "\u001b[34m[07/30/2024 18:08:47 INFO 140575487043392] Estimated memory needed to build the forest in bytes: 30720000\u001b[0m\n",
      "\u001b[34m[07/30/2024 18:08:47 INFO 140575487043392] Memory limits validated.\u001b[0m\n",
      "\u001b[34m[07/30/2024 18:08:47 INFO 140575487043392] Starting cluster sharing facilities...\u001b[0m\n",
      "\u001b[34m[07/30/2024 18:08:47 INFO 140572803200768] concurrency model: async\u001b[0m\n",
      "\u001b[34m[07/30/2024 18:08:47 INFO 140575487043392] Create Store: dist_async\u001b[0m\n",
      "\u001b[34m[07/30/2024 18:08:47 INFO 140572803200768] masquerade (NAT) address: None\u001b[0m\n",
      "\u001b[34m[07/30/2024 18:08:47 INFO 140572803200768] passive ports: None\u001b[0m\n",
      "\u001b[34m[07/30/2024 18:08:47 INFO 140572803200768] >>> starting FTP server on 0.0.0.0:8999, pid=8 <<<\u001b[0m\n",
      "\u001b[34m[07/30/2024 18:08:48 INFO 140575487043392] Cluster sharing facilities started.\u001b[0m\n",
      "\u001b[34m[07/30/2024 18:08:48 INFO 140575487043392] Verifying all workers are accessible...\u001b[0m\n",
      "\u001b[34m[07/30/2024 18:08:48 INFO 140575487043392] All workers accessible.\u001b[0m\n",
      "\u001b[34m[07/30/2024 18:08:48 INFO 140575487043392] Initializing Sampler...\u001b[0m\n",
      "\u001b[34m[07/30/2024 18:08:48 INFO 140575487043392] Sampler correctly initialized.\u001b[0m\n",
      "\u001b[34m#metrics {\"StartTime\": 1722362926.9972436, \"EndTime\": 1722362928.5303576, \"Dimensions\": {\"Algorithm\": \"RandomCutForest\", \"Host\": \"algo-1\", \"Operation\": \"training\"}, \"Metrics\": {\"initialize.time\": {\"sum\": 1520.9007263183594, \"count\": 1, \"min\": 1520.9007263183594, \"max\": 1520.9007263183594}}}\u001b[0m\n",
      "\u001b[34m#metrics {\"StartTime\": 1722362928.5305328, \"EndTime\": 1722362928.5305772, \"Dimensions\": {\"Algorithm\": \"RandomCutForest\", \"Host\": \"algo-1\", \"Operation\": \"training\", \"Meta\": \"init_train_data_iter\"}, \"Metrics\": {\"Total Records Seen\": {\"sum\": 0.0, \"count\": 1, \"min\": 0, \"max\": 0}, \"Total Batches Seen\": {\"sum\": 0.0, \"count\": 1, \"min\": 0, \"max\": 0}, \"Max Records Seen Between Resets\": {\"sum\": 0.0, \"count\": 1, \"min\": 0, \"max\": 0}, \"Max Batches Seen Between Resets\": {\"sum\": 0.0, \"count\": 1, \"min\": 0, \"max\": 0}, \"Reset Count\": {\"sum\": 0.0, \"count\": 1, \"min\": 0, \"max\": 0}, \"Number of Records Since Last Reset\": {\"sum\": 0.0, \"count\": 1, \"min\": 0, \"max\": 0}, \"Number of Batches Since Last Reset\": {\"sum\": 0.0, \"count\": 1, \"min\": 0, \"max\": 0}}}\u001b[0m\n",
      "\u001b[34m[2024-07-30 18:08:48.532] [tensorio] [info] epoch_stats={\"data_pipeline\": \"/opt/ml/input/data/train\", \"epoch\": 0, \"duration\": 1534, \"num_examples\": 1, \"num_bytes\": 148000}\u001b[0m\n",
      "\u001b[34m[07/30/2024 18:08:48 INFO 140575487043392] Sampling training data...\u001b[0m\n",
      "\u001b[34m[2024-07-30 18:08:48.887] [tensorio] [info] epoch_stats={\"data_pipeline\": \"/opt/ml/input/data/train\", \"epoch\": 1, \"duration\": 354, \"num_examples\": 257, \"num_bytes\": 37936248}\u001b[0m\n",
      "\u001b[34m[07/30/2024 18:08:48 INFO 140575487043392] Sampling training data completed.\u001b[0m\n",
      "\u001b[34m#metrics {\"StartTime\": 1722362928.5304768, \"EndTime\": 1722362928.8997502, \"Dimensions\": {\"Algorithm\": \"RandomCutForest\", \"Host\": \"algo-1\", \"Operation\": \"training\"}, \"Metrics\": {\"epochs\": {\"sum\": 1.0, \"count\": 1, \"min\": 1, \"max\": 1}, \"update.time\": {\"sum\": 367.14982986450195, \"count\": 1, \"min\": 367.14982986450195, \"max\": 367.14982986450195}}}\u001b[0m\n",
      "\u001b[34m[07/30/2024 18:08:48 INFO 140575487043392] Early stop condition met. Stopping training.\u001b[0m\n",
      "\u001b[34m[07/30/2024 18:08:48 INFO 140575487043392] #progress_metric: host=algo-1, completed 100 % epochs\u001b[0m\n",
      "\u001b[34m#metrics {\"StartTime\": 1722362928.5325704, \"EndTime\": 1722362928.9002883, \"Dimensions\": {\"Algorithm\": \"RandomCutForest\", \"Host\": \"algo-1\", \"Operation\": \"training\", \"epoch\": 0, \"Meta\": \"training_data_iter\"}, \"Metrics\": {\"Total Records Seen\": {\"sum\": 256326.0, \"count\": 1, \"min\": 256326, \"max\": 256326}, \"Total Batches Seen\": {\"sum\": 257.0, \"count\": 1, \"min\": 257, \"max\": 257}, \"Max Records Seen Between Resets\": {\"sum\": 256326.0, \"count\": 1, \"min\": 256326, \"max\": 256326}, \"Max Batches Seen Between Resets\": {\"sum\": 257.0, \"count\": 1, \"min\": 257, \"max\": 257}, \"Reset Count\": {\"sum\": 1.0, \"count\": 1, \"min\": 1, \"max\": 1}, \"Number of Records Since Last Reset\": {\"sum\": 256326.0, \"count\": 1, \"min\": 256326, \"max\": 256326}, \"Number of Batches Since Last Reset\": {\"sum\": 257.0, \"count\": 1, \"min\": 257, \"max\": 257}}}\u001b[0m\n",
      "\u001b[34m[07/30/2024 18:08:48 INFO 140575487043392] #throughput_metric: host=algo-1, train throughput=696703.1899311662 records/second\u001b[0m\n",
      "\u001b[34m[07/30/2024 18:08:48 INFO 140575487043392] Master node: building Random Cut Forest...\u001b[0m\n",
      "\u001b[34m[07/30/2024 18:08:48 INFO 140575487043392] Gathering samples...\u001b[0m\n",
      "\u001b[34m[07/30/2024 18:08:48 INFO 140575487043392] 25600 samples gathered\u001b[0m\n",
      "\u001b[34m[07/30/2024 18:08:48 INFO 140575487043392] Building Random Cut Forest...\u001b[0m\n",
      "\u001b[34m[07/30/2024 18:08:48 INFO 140575487043392] Random Cut Forest built: \u001b[0m\n",
      "\u001b[34mForestInfo{num_trees: 50, num_samples_in_forest: 25600, num_samples_per_tree: 512, sample_dim: 30, shingle_size: 1, trees_num_nodes: [953, 919, 941, 955, 961, 907, 941, 929, 923, 913, 935, 921, 933, 939, 931, 943, 919, 941, 943, 929, 945, 935, 941, 915, 925, 917, 925, 931, 921, 917, 941, 925, 923, 929, 925, 937, 925, 939, 945, 921, 939, 923, 925, 921, 933, 915, 929, 945, 921, 929, ], trees_depth: [24, 21, 23, 23, 20, 24, 22, 19, 19, 24, 20, 21, 22, 19, 22, 20, 21, 21, 20, 26, 21, 21, 25, 20, 21, 19, 24, 23, 23, 22, 22, 24, 22, 20, 23, 19, 22, 20, 21, 20, 20, 23, 22, 22, 20, 20, 24, 22, 18, 21, ], max_num_nodes: 961, min_num_nodes: 907, avg_num_nodes: 930, max_tree_depth: 26, min_tree_depth: 18, avg_tree_depth: 21, mem_size: 26434032}\u001b[0m\n",
      "\u001b[34m#metrics {\"StartTime\": 1722362928.8998775, \"EndTime\": 1722362928.999887, \"Dimensions\": {\"Algorithm\": \"RandomCutForest\", \"Host\": \"algo-1\", \"Operation\": \"training\"}, \"Metrics\": {\"fit_model.time\": {\"sum\": 80.6117057800293, \"count\": 1, \"min\": 80.6117057800293, \"max\": 80.6117057800293}, \"model.bytes\": {\"sum\": 26434032.0, \"count\": 1, \"min\": 26434032, \"max\": 26434032}, \"finalize.time\": {\"sum\": 99.14636611938477, \"count\": 1, \"min\": 99.14636611938477, \"max\": 99.14636611938477}}}\u001b[0m\n",
      "\u001b[34m[07/30/2024 18:08:49 INFO 140575487043392] Master node: Serializing the RandomCutForest model\u001b[0m\n",
      "\u001b[34m#metrics {\"StartTime\": 1722362929.0000074, \"EndTime\": 1722362929.7284493, \"Dimensions\": {\"Algorithm\": \"RandomCutForest\", \"Host\": \"algo-1\", \"Operation\": \"training\"}, \"Metrics\": {\"serialize_model.time\": {\"sum\": 728.3921241760254, \"count\": 1, \"min\": 728.3921241760254, \"max\": 728.3921241760254}}}\u001b[0m\n",
      "\u001b[34m[07/30/2024 18:08:49 INFO 140575487043392] Test data is not provided.\u001b[0m\n",
      "\u001b[34m#metrics {\"StartTime\": 1722362929.7285206, \"EndTime\": 1722362929.741086, \"Dimensions\": {\"Algorithm\": \"RandomCutForest\", \"Host\": \"algo-1\", \"Operation\": \"training\"}, \"Metrics\": {\"setuptime\": {\"sum\": 27.995586395263672, \"count\": 1, \"min\": 27.995586395263672, \"max\": 27.995586395263672}, \"totaltime\": {\"sum\": 2777.8751850128174, \"count\": 1, \"min\": 2777.8751850128174, \"max\": 2777.8751850128174}}}\u001b[0m\n",
      "\n",
      "2024-07-30 18:09:12 Uploading - Uploading generated training model\n",
      "2024-07-30 18:09:12 Completed - Training job completed\n",
      "Training seconds: 225\n",
      "Billable seconds: 225\n"
     ]
    }
   ],
   "source": [
    "rcf.fit(rcf.record_set(X_train))"
   ]
  },
  {
   "cell_type": "markdown",
   "metadata": {},
   "source": [
    "### Host Random Cut Forest"
   ]
  },
  {
   "cell_type": "markdown",
   "metadata": {
    "pycharm": {
     "name": "#%% md\n"
    }
   },
   "source": [
    "Once we have a trained model we can deploy it and get some predictions for our test set. SageMaker will spin up an instance for us and deploy the model, the whole process should take around 10 minutes, you will see progress being made with each `-` and an exclamation point when the process is finished."
   ]
  },
  {
   "cell_type": "code",
   "execution_count": 13,
   "metadata": {},
   "outputs": [
    {
     "name": "stderr",
     "output_type": "stream",
     "text": [
      "INFO:sagemaker.image_uris:Same images used for training and inference. Defaulting to image scope: inference.\n",
      "INFO:sagemaker.image_uris:Ignoring unnecessary instance type: None.\n",
      "INFO:sagemaker:Creating model with name: sagemaker-soln-fdml-1-rcf\n",
      "INFO:sagemaker:Creating endpoint-config with name sagemaker-soln-fdml-1-rcf\n",
      "INFO:sagemaker:Creating endpoint with name sagemaker-soln-fdml-1-rcf\n"
     ]
    },
    {
     "name": "stdout",
     "output_type": "stream",
     "text": [
      "----------!"
     ]
    }
   ],
   "source": [
    "rcf_predictor = rcf.deploy(\n",
    "    model_name=\"{}-rcf\".format(config.SOLUTION_PREFIX),\n",
    "    endpoint_name=\"{}-rcf\".format(config.SOLUTION_PREFIX),\n",
    "    initial_instance_count=1,\n",
    "    instance_type=instance_type)"
   ]
  },
  {
   "cell_type": "code",
   "execution_count": 14,
   "metadata": {
    "pycharm": {
     "name": "#%%\n"
    }
   },
   "outputs": [],
   "source": [
    "from sagemaker.serializers import CSVSerializer\n",
    "from sagemaker.deserializers import JSONDeserializer\n",
    " \n",
    "rcf_predictor.content_type = 'text/csv'\n",
    "rcf_predictor.serializer = CSVSerializer()\n",
    "rcf_predictor.accept = 'application/json'\n",
    "rcf_predictor.deserializer = JSONDeserializer()"
   ]
  },
  {
   "cell_type": "markdown",
   "metadata": {},
   "source": [
    "### Test Random Cut Forest"
   ]
  },
  {
   "cell_type": "markdown",
   "metadata": {
    "pycharm": {
     "name": "#%% md\n"
    }
   },
   "source": [
    "With the model deployed, let's see how it performs in terms of separating fraudulent from legitimate transactions."
   ]
  },
  {
   "cell_type": "code",
   "execution_count": 15,
   "metadata": {},
   "outputs": [],
   "source": [
    "def predict_rcf(current_predictor, data, rows=500):\n",
    "    split_array = np.array_split(data, int(data.shape[0] / float(rows) + 1))\n",
    "    predictions = []\n",
    "    for array in split_array:\n",
    "        array_preds = [s['score'] for s in current_predictor.predict(array)['scores']]\n",
    "        predictions.append(array_preds)\n",
    "\n",
    "    return np.concatenate([np.array(batch) for batch in predictions])"
   ]
  },
  {
   "cell_type": "code",
   "execution_count": 16,
   "metadata": {},
   "outputs": [],
   "source": [
    "positives = X_test[y_test == 1]\n",
    "positives_scores = predict_rcf(rcf_predictor, positives)\n",
    "\n",
    "negatives = X_test[y_test == 0]\n",
    "negatives_scores = predict_rcf(rcf_predictor, negatives)"
   ]
  },
  {
   "cell_type": "code",
   "execution_count": 17,
   "metadata": {},
   "outputs": [
    {
     "name": "stderr",
     "output_type": "stream",
     "text": [
      "WARNING:matplotlib.font_manager:Matplotlib is building the font cache; this may take a moment.\n",
      "INFO:matplotlib.font_manager:generated new fontManager\n"
     ]
    }
   ],
   "source": [
    "import seaborn as sns\n",
    "import matplotlib.pyplot as plt\n",
    "sns.set(color_codes=True)"
   ]
  },
  {
   "cell_type": "code",
   "execution_count": 18,
   "metadata": {
    "pycharm": {
     "name": "#%%\n"
    }
   },
   "outputs": [
    {
     "data": {
      "text/plain": [
       "<matplotlib.legend.Legend at 0x7f9ea4589750>"
      ]
     },
     "execution_count": 18,
     "metadata": {},
     "output_type": "execute_result"
    },
    {
     "data": {
      "image/png": "[encoded data removed]",
      "text/plain": [
       "<Figure size 800x600 with 1 Axes>"
      ]
     },
     "metadata": {},
     "output_type": "display_data"
    }
   ],
   "source": [
    "import matplotlib.pyplot as plt\n",
    "import seaborn as sns\n",
    "\n",
    "fig, ax = plt.subplots(figsize=(8, 6))\n",
    "sns.histplot(positives_scores, label='fraud', bins=20, ax=ax)\n",
    "sns.histplot(negatives_scores, label='not-fraud', bins=20, ax=ax)\n",
    "ax.legend()"
   ]
  },
  {
   "cell_type": "markdown",
   "metadata": {},
   "source": [
    "The unsupervised model already can achieve some separation between the classes, with higher anomaly scores being correlated to fraud."
   ]
  },
  {
   "cell_type": "markdown",
   "metadata": {},
   "source": [
    "## Supervised Learning"
   ]
  },
  {
   "cell_type": "markdown",
   "metadata": {},
   "source": [
    "Once we have gathered an adequate amount of labeled training data, we can use a supervised learning algorithm that discovers relationships between the features and the dependent class.\n",
    "\n",
    "We will use Gradient Boosted Trees as our model, as they have a proven track record, are highly scalable and can deal with missing data, reducing the need to pre-process datasets."
   ]
  },
  {
   "cell_type": "markdown",
   "metadata": {},
   "source": [
    "### Prepare Data and Upload to S3"
   ]
  },
  {
   "cell_type": "markdown",
   "metadata": {
    "pycharm": {
     "name": "#%% md\n"
    }
   },
   "source": [
    "First we copy the data to an in-memory buffer."
   ]
  },
  {
   "cell_type": "code",
   "execution_count": 19,
   "metadata": {
    "pycharm": {
     "name": "#%%\n"
    }
   },
   "outputs": [],
   "source": [
    "import io\n",
    "import sklearn\n",
    "from sklearn.datasets import dump_svmlight_file   \n",
    "\n",
    "buf = io.BytesIO()\n",
    "\n",
    "sklearn.datasets.dump_svmlight_file(X_train, y_train, buf)\n",
    "buf.seek(0);"
   ]
  },
  {
   "cell_type": "markdown",
   "metadata": {
    "pycharm": {
     "name": "#%% md\n"
    }
   },
   "source": [
    "Now we upload the data to S3 using boto3."
   ]
  },
  {
   "cell_type": "code",
   "execution_count": 20,
   "metadata": {
    "pycharm": {
     "name": "#%%\n"
    }
   },
   "outputs": [
    {
     "name": "stdout",
     "output_type": "stream",
     "text": [
      "Uploaded training data location: s3://sagemaker-soln-fdml-1-152840014785-md/fraud-classifier/train/base/fraud-dataset\n",
      "Training artifacts will be uploaded to: s3://sagemaker-soln-fdml-1-152840014785-md/fraud-classifier/output\n"
     ]
    }
   ],
   "source": [
    "key = 'fraud-dataset'\n",
    "subdir = 'base'\n",
    "boto3.resource('s3', region_name=config.AWS_REGION).Bucket(bucket).Object(os.path.join(prefix, 'train', subdir, key)).upload_fileobj(buf)\n",
    "\n",
    "s3_train_data = 's3://{}/{}/train/{}/{}'.format(bucket, prefix, subdir, key)\n",
    "print('Uploaded training data location: {}'.format(s3_train_data))\n",
    "\n",
    "output_location = 's3://{}/{}/output'.format(bucket, prefix)\n",
    "print('Training artifacts will be uploaded to: {}'.format(output_location))"
   ]
  },
  {
   "cell_type": "markdown",
   "metadata": {
    "pycharm": {
     "name": "#%% md\n"
    }
   },
   "source": [
    "We can now train using SageMaker's built-in XGBoost algorithm. To specify the XGBoost algorithm, we use a utility function to obtain its URI. A complete list of built-in algorithms is found here: https://docs.aws.amazon.com/sagemaker/latest/dg/algos.html"
   ]
  },
  {
   "cell_type": "code",
   "execution_count": 21,
   "metadata": {
    "pycharm": {
     "name": "#%%\n"
    }
   },
   "outputs": [
    {
     "name": "stderr",
     "output_type": "stream",
     "text": [
      "INFO:sagemaker.image_uris:Defaulting to only supported image scope: cpu.\n"
     ]
    }
   ],
   "source": [
    "import sagemaker\n",
    "\n",
    "# Get the XGBoost image URI\n",
    "xgboost_image_uri = sagemaker.image_uris.retrieve(\n",
    "    framework=\"xgboost\",\n",
    "    region=boto3.Session().region_name,\n",
    "    version=\"0.90-2\",\n",
    "    py_version=\"py3\",\n",
    ")\n"
   ]
  },
  {
   "cell_type": "markdown",
   "metadata": {
    "pycharm": {
     "name": "#%% md\n"
    }
   },
   "source": [
    "SageMaker abstracts training via Estimators. We can pass the classifier and parameters along with hyperparameters to the estimator, and fit the estimator to the data in S3. An important parameter here is `scale_pos_weight` which scales the weights of the positive vs. negative class examples. This is crucial to do in an imbalanced dataset like the one we are using here, otherwise the majority class would dominate the learning."
   ]
  },
  {
   "cell_type": "code",
   "execution_count": 22,
   "metadata": {
    "pycharm": {
     "name": "#%%\n"
    },
    "scrolled": true
   },
   "outputs": [],
   "source": [
    "from math import sqrt\n",
    "\n",
    "# Because the data set is so highly skewed, we set the scale position weight conservatively,\n",
    "# as sqrt(num_nonfraud/num_fraud).\n",
    "# Other recommendations for the scale_pos_weight are setting it to (num_nonfraud/num_fraud).\n",
    "scale_pos_weight = sqrt(np.count_nonzero(y_train==0)/np.count_nonzero(y_train))\n",
    "hyperparams = {\n",
    "    \"max_depth\":5,\n",
    "    \"subsample\":0.8,\n",
    "    \"num_round\":100,\n",
    "    \"eta\":0.2,\n",
    "    \"gamma\":4,\n",
    "    \"min_child_weight\":6,\n",
    "    \"silent\":0,\n",
    "    \"objective\":'binary:logistic',\n",
    "    \"eval_metric\":'auc',\n",
    "    \"scale_pos_weight\": scale_pos_weight\n",
    "}"
   ]
  },
  {
   "cell_type": "markdown",
   "metadata": {},
   "source": [
    "Let us explain the hyper-parameters used above. The one that's very relevant for learning from skewed data is `scale_pos_weight`. This is a ratio that weighs the examples of the positive class (fraud) against the negative class (legitimate). Commonly this is set to `(num_nonfraud/num_fraud)`, but our data is exteremely skewed so we will set it to `sqrt(num_nonfraud/num_fraud)`.  For the data in this example, this would be `sqrt(284,807/492)` which would give our fraud examples a weight of ~24.\n",
    "\n",
    "The rest of the hyper-parameters are as follows:\n",
    "\n",
    "* `max_depth`: This is the maximum depth of the trees that will be built for our ensemble. A max depth of 5 will give us trees with up to 32 leaves. Note that tree size grows exponentially when increasing this parameter (`num_leaves=2^max_depth`), so a max depth of 10 would give us trees with 1024 leaves, which are likely to overfit.\n",
    "* `subsample`: The subsample ratio that we use to select a subset of the complete data to train each tree in the ensemble. With a value of 0.8, each tree is trained on a random sample containing 80% of the complete data. This is used to prevent overfitting.\n",
    "* `num_round`: This is the size of the ensemble. We will for 100 \"rounds\", each training round adding a new tree to the ensemble.\n",
    "* `eta`: This is the step size shrinkage applied at each update. This value will shrink the weights of new features to prevent overfitting.\n",
    "* `gamma`: This is the minimum loss reduction to reach before splitting a leaf. Splitting a leaf can sometimes have a small benefit, and splitting such leaves can lead to overfitting. By setting `gamma` to values larger than zero, we ensure that there should be at least some non-negligible amount of accuracy gain before splitting a leaf.\n",
    "* `min_child_weight`: This parameter has a similar effect to gamma, setting it to higher values means we'll wait until enough gain will be possible before splitting a leaf.\n",
    "* `objective`: We are doing binary classification, so we use a logistic loss objective.\n",
    "* `eval_metric`: Having a good evaluation metric is crucial when dealing with imbalanced data (see discussion below). We use AUC here."
   ]
  },
  {
   "cell_type": "code",
   "execution_count": 23,
   "metadata": {},
   "outputs": [],
   "source": [
    "from sagemaker.estimator import Estimator\n",
    "\n",
    "clf = Estimator(\n",
    "    image_uri=xgboost_image_uri,\n",
    "    role=config.SAGEMAKER_IAM_ROLE,\n",
    "    instance_count=1,\n",
    "    instance_type=instance_type,\n",
    "    hyperparameters=hyperparams,\n",
    "    output_path=output_location,\n",
    "    sagemaker_session=session,\n",
    "    base_job_name=\"{}-xgb\".format(config.SOLUTION_PREFIX)\n",
    ")"
   ]
  },
  {
   "cell_type": "markdown",
   "metadata": {},
   "source": [
    "We can now fit our supervised training model, the call to fit below should take around 5 minutes to complete."
   ]
  },
  {
   "cell_type": "code",
   "execution_count": 24,
   "metadata": {
    "pycharm": {
     "name": "#%%\n"
    }
   },
   "outputs": [
    {
     "name": "stderr",
     "output_type": "stream",
     "text": [
      "INFO:sagemaker:Creating training-job with name: sagemaker-soln-fdml-1-xgb-2024-07-30-18-20-53-237\n"
     ]
    },
    {
     "name": "stdout",
     "output_type": "stream",
     "text": [
      "2024-07-30 18:20:53 Starting - Starting the training job...\n",
      "2024-07-30 18:21:13 Starting - Preparing the instances for training...\n",
      "2024-07-30 18:21:37 Downloading - Downloading input data......\n",
      "2024-07-30 18:22:27 Downloading - Downloading the training image...\n",
      "2024-07-30 18:23:03 Training - Training image download completed. Training in progress..\u001b[34mINFO:sagemaker-containers:Imported framework sagemaker_xgboost_container.training\u001b[0m\n",
      "\u001b[34mINFO:sagemaker-containers:Failed to parse hyperparameter eval_metric value auc to Json.\u001b[0m\n",
      "\u001b[34mReturning the value itself\u001b[0m\n",
      "\u001b[34mINFO:sagemaker-containers:Failed to parse hyperparameter objective value binary:logistic to Json.\u001b[0m\n",
      "\u001b[34mReturning the value itself\u001b[0m\n",
      "\u001b[34mINFO:sagemaker-containers:No GPUs detected (normal if no gpus installed)\u001b[0m\n",
      "\u001b[34mINFO:sagemaker_xgboost_container.training:Running XGBoost Sagemaker in algorithm mode\u001b[0m\n",
      "\u001b[34m[18:23:08] 256326x30 matrix with 7688153 entries loaded from /opt/ml/input/data/train\u001b[0m\n",
      "\u001b[34mINFO:root:Single node training.\u001b[0m\n",
      "\u001b[34m[2024-07-30 18:23:08.781 ip-10-0-254-212.us-east-2.compute.internal:6 INFO json_config.py:90] Creating hook from json_config at /opt/ml/input/config/debughookconfig.json.\u001b[0m\n",
      "\u001b[34m[2024-07-30 18:23:08.782 ip-10-0-254-212.us-east-2.compute.internal:6 INFO hook.py:151] tensorboard_dir has not been set for the hook. SMDebug will not be exporting tensorboard summaries.\u001b[0m\n",
      "\u001b[34m[2024-07-30 18:23:08.782 ip-10-0-254-212.us-east-2.compute.internal:6 INFO hook.py:196] Saving to /opt/ml/output/tensors\u001b[0m\n",
      "\u001b[34mINFO:root:Debug hook created from config\u001b[0m\n",
      "\u001b[34mINFO:root:Train matrix has 256326 rows\u001b[0m\n",
      "\u001b[34m[0]#011train-auc:0.949304\u001b[0m\n",
      "\u001b[34m[2024-07-30 18:23:10.313 ip-10-0-254-212.us-east-2.compute.internal:6 INFO hook.py:325] Monitoring the collections: metrics\u001b[0m\n",
      "\u001b[34m[1]#011train-auc:0.970153\u001b[0m\n",
      "\u001b[34m[2]#011train-auc:0.976339\u001b[0m\n",
      "\u001b[34m[3]#011train-auc:0.979237\u001b[0m\n",
      "\u001b[34m[4]#011train-auc:0.979121\u001b[0m\n",
      "\u001b[34m[5]#011train-auc:0.982229\u001b[0m\n",
      "\u001b[34m[6]#011train-auc:0.982265\u001b[0m\n",
      "\u001b[34m[7]#011train-auc:0.982364\u001b[0m\n",
      "\u001b[34m[8]#011train-auc:0.982511\u001b[0m\n",
      "\u001b[34m[9]#011train-auc:0.984091\u001b[0m\n",
      "\u001b[34m[10]#011train-auc:0.985393\u001b[0m\n",
      "\u001b[34m[11]#011train-auc:0.986369\u001b[0m\n",
      "\u001b[34m[12]#011train-auc:0.992521\u001b[0m\n",
      "\u001b[34m[13]#011train-auc:0.992637\u001b[0m\n",
      "\u001b[34m[14]#011train-auc:0.993284\u001b[0m\n",
      "\u001b[34m[15]#011train-auc:0.994226\u001b[0m\n",
      "\u001b[34m[16]#011train-auc:0.996567\u001b[0m\n",
      "\u001b[34m[17]#011train-auc:0.997222\u001b[0m\n",
      "\u001b[34m[18]#011train-auc:0.99788\u001b[0m\n",
      "\u001b[34m[19]#011train-auc:0.99883\u001b[0m\n",
      "\u001b[34m[20]#011train-auc:0.998995\u001b[0m\n",
      "\u001b[34m[21]#011train-auc:0.999144\u001b[0m\n",
      "\u001b[34m[22]#011train-auc:0.999097\u001b[0m\n",
      "\u001b[34m[23]#011train-auc:0.999722\u001b[0m\n",
      "\u001b[34m[24]#011train-auc:0.999731\u001b[0m\n",
      "\u001b[34m[25]#011train-auc:0.999838\u001b[0m\n",
      "\u001b[34m[26]#011train-auc:0.999885\u001b[0m\n",
      "\u001b[34m[27]#011train-auc:0.999887\u001b[0m\n",
      "\u001b[34m[28]#011train-auc:0.999902\u001b[0m\n",
      "\u001b[34m[29]#011train-auc:0.999914\u001b[0m\n",
      "\u001b[34m[30]#011train-auc:0.999931\u001b[0m\n",
      "\u001b[34m[31]#011train-auc:0.999936\u001b[0m\n",
      "\u001b[34m[32]#011train-auc:0.999946\u001b[0m\n",
      "\u001b[34m[33]#011train-auc:0.99995\u001b[0m\n",
      "\u001b[34m[34]#011train-auc:0.999957\u001b[0m\n",
      "\u001b[34m[35]#011train-auc:0.999959\u001b[0m\n",
      "\u001b[34m[36]#011train-auc:0.999961\u001b[0m\n",
      "\u001b[34m[37]#011train-auc:0.999962\u001b[0m\n",
      "\u001b[34m[38]#011train-auc:0.999963\u001b[0m\n",
      "\u001b[34m[39]#011train-auc:0.999965\u001b[0m\n",
      "\u001b[34m[40]#011train-auc:0.999966\u001b[0m\n",
      "\u001b[34m[41]#011train-auc:0.99997\u001b[0m\n",
      "\u001b[34m[42]#011train-auc:0.999973\u001b[0m\n",
      "\u001b[34m[43]#011train-auc:0.999975\u001b[0m\n",
      "\u001b[34m[44]#011train-auc:0.999975\u001b[0m\n",
      "\u001b[34m[45]#011train-auc:0.999976\u001b[0m\n",
      "\u001b[34m[46]#011train-auc:0.999979\u001b[0m\n",
      "\u001b[34m[47]#011train-auc:0.999981\u001b[0m\n",
      "\u001b[34m[48]#011train-auc:0.999983\u001b[0m\n",
      "\u001b[34m[49]#011train-auc:0.999983\u001b[0m\n",
      "\u001b[34m[50]#011train-auc:0.999985\u001b[0m\n",
      "\u001b[34m[51]#011train-auc:0.999986\u001b[0m\n",
      "\u001b[34m[52]#011train-auc:0.999987\u001b[0m\n",
      "\u001b[34m[53]#011train-auc:0.999987\u001b[0m\n",
      "\u001b[34m[54]#011train-auc:0.999988\u001b[0m\n",
      "\u001b[34m[55]#011train-auc:0.999988\u001b[0m\n",
      "\u001b[34m[56]#011train-auc:0.999988\u001b[0m\n",
      "\u001b[34m[57]#011train-auc:0.999989\u001b[0m\n",
      "\u001b[34m[58]#011train-auc:0.999989\u001b[0m\n",
      "\u001b[34m[59]#011train-auc:0.999989\u001b[0m\n",
      "\u001b[34m[60]#011train-auc:0.99999\u001b[0m\n",
      "\u001b[34m[61]#011train-auc:0.99999\u001b[0m\n",
      "\u001b[34m[62]#011train-auc:0.99999\u001b[0m\n",
      "\u001b[34m[63]#011train-auc:0.999991\u001b[0m\n",
      "\u001b[34m[64]#011train-auc:0.999992\u001b[0m\n",
      "\u001b[34m[65]#011train-auc:0.999993\u001b[0m\n",
      "\u001b[34m[66]#011train-auc:0.999993\u001b[0m\n",
      "\u001b[34m[67]#011train-auc:0.999993\u001b[0m\n",
      "\u001b[34m[68]#011train-auc:0.999993\u001b[0m\n",
      "\u001b[34m[69]#011train-auc:0.999994\u001b[0m\n",
      "\u001b[34m[70]#011train-auc:0.999993\u001b[0m\n",
      "\u001b[34m[71]#011train-auc:0.999994\u001b[0m\n",
      "\u001b[34m[72]#011train-auc:0.999994\u001b[0m\n",
      "\u001b[34m[73]#011train-auc:0.999995\u001b[0m\n",
      "\u001b[34m[74]#011train-auc:0.999995\u001b[0m\n",
      "\u001b[34m[75]#011train-auc:0.999995\u001b[0m\n",
      "\u001b[34m[76]#011train-auc:0.999996\u001b[0m\n",
      "\u001b[34m[77]#011train-auc:0.999996\u001b[0m\n",
      "\u001b[34m[78]#011train-auc:0.999996\u001b[0m\n",
      "\u001b[34m[79]#011train-auc:0.999996\u001b[0m\n",
      "\u001b[34m[80]#011train-auc:0.999996\u001b[0m\n",
      "\u001b[34m[81]#011train-auc:0.999996\u001b[0m\n",
      "\u001b[34m[82]#011train-auc:0.999997\u001b[0m\n",
      "\u001b[34m[83]#011train-auc:0.999997\u001b[0m\n",
      "\u001b[34m[84]#011train-auc:0.999997\u001b[0m\n",
      "\u001b[34m[85]#011train-auc:0.999997\u001b[0m\n",
      "\u001b[34m[86]#011train-auc:0.999997\u001b[0m\n",
      "\u001b[34m[87]#011train-auc:0.999997\u001b[0m\n",
      "\u001b[34m[88]#011train-auc:0.999998\u001b[0m\n",
      "\u001b[34m[89]#011train-auc:0.999998\u001b[0m\n",
      "\u001b[34m[90]#011train-auc:0.999998\u001b[0m\n",
      "\u001b[34m[91]#011train-auc:0.999998\u001b[0m\n",
      "\u001b[34m[92]#011train-auc:0.999998\u001b[0m\n",
      "\u001b[34m[93]#011train-auc:0.999998\u001b[0m\n",
      "\u001b[34m[94]#011train-auc:0.999998\u001b[0m\n",
      "\u001b[34m[95]#011train-auc:0.999998\u001b[0m\n",
      "\u001b[34m[96]#011train-auc:0.999998\u001b[0m\n",
      "\u001b[34m[97]#011train-auc:0.999998\u001b[0m\n",
      "\u001b[34m[98]#011train-auc:0.999998\u001b[0m\n",
      "\u001b[34m[99]#011train-auc:0.999999\u001b[0m\n",
      "\n",
      "2024-07-30 18:24:49 Uploading - Uploading generated training model\n",
      "2024-07-30 18:24:49 Completed - Training job completed\n",
      "Training seconds: 192\n",
      "Billable seconds: 192\n"
     ]
    }
   ],
   "source": [
    "clf.fit({'train': s3_train_data})"
   ]
  },
  {
   "cell_type": "markdown",
   "metadata": {
    "pycharm": {
     "name": "#%% md\n"
    }
   },
   "source": [
    "### Host Classifier"
   ]
  },
  {
   "cell_type": "markdown",
   "metadata": {
    "pycharm": {
     "name": "#%% md\n"
    }
   },
   "source": [
    "Now we deploy the estimator to and endpoint. As before progress will be indicated by `-`, and the deployment should be done after 10 minutes."
   ]
  },
  {
   "cell_type": "code",
   "execution_count": 25,
   "metadata": {
    "pycharm": {
     "name": "#%%\n"
    }
   },
   "outputs": [
    {
     "name": "stderr",
     "output_type": "stream",
     "text": [
      "INFO:sagemaker:Creating model with name: sagemaker-soln-fdml-1-xgb\n",
      "INFO:sagemaker:Creating endpoint-config with name sagemaker-soln-fdml-1-xgb\n",
      "INFO:sagemaker:Creating endpoint with name sagemaker-soln-fdml-1-xgb\n"
     ]
    },
    {
     "name": "stdout",
     "output_type": "stream",
     "text": [
      "-----!"
     ]
    }
   ],
   "source": [
    "from sagemaker.serializers import CSVSerializer\n",
    "\n",
    "predictor = clf.deploy(initial_instance_count=1,\n",
    "                       model_name=\"{}-xgb\".format(config.SOLUTION_PREFIX),\n",
    "                       endpoint_name=\"{}-xgb\".format(config.SOLUTION_PREFIX),\n",
    "                       instance_type=instance_type,\n",
    "                       serializer=CSVSerializer(),\n",
    "                       deserializer=None)"
   ]
  },
  {
   "cell_type": "markdown",
   "metadata": {
    "pycharm": {
     "name": "#%% md\n"
    }
   },
   "source": [
    "## Evaluation"
   ]
  },
  {
   "cell_type": "markdown",
   "metadata": {},
   "source": [
    "Once we have trained the model we can use it to make predictions for the test set."
   ]
  },
  {
   "cell_type": "code",
   "execution_count": 26,
   "metadata": {
    "pycharm": {
     "name": "#%%\n"
    }
   },
   "outputs": [],
   "source": [
    "# Because we have a large test set, we call predict on smaller batches\n",
    "def predict(current_predictor, data, rows=500):\n",
    "    split_array = np.array_split(data, int(data.shape[0] / float(rows) + 1))\n",
    "    predictions = ''\n",
    "    for array in split_array:\n",
    "        predictions = ','.join([predictions, current_predictor.predict(array).decode('utf-8')])\n",
    "\n",
    "    return np.fromstring(predictions[1:], sep=',')"
   ]
  },
  {
   "cell_type": "code",
   "execution_count": 27,
   "metadata": {},
   "outputs": [],
   "source": [
    "raw_preds = predict(predictor, X_test)"
   ]
  },
  {
   "cell_type": "markdown",
   "metadata": {
    "pycharm": {
     "name": "#%% md\n"
    }
   },
   "source": [
    "We will use a few measures from the scikit-learn package to evaluate the performance of our model. When dealing with an imbalanced dataset, we need to choose metrics that take into account the frequency of each class in the data.\n",
    "\n",
    "Two such metrics are the [balanced accuracy score](https://scikit-learn.org/stable/modules/model_evaluation.html#balanced-accuracy-score), and [Cohen's Kappa](https://scikit-learn.org/stable/modules/model_evaluation.html#cohen-s-kappa)."
   ]
  },
  {
   "cell_type": "code",
   "execution_count": 28,
   "metadata": {},
   "outputs": [
    {
     "name": "stdout",
     "output_type": "stream",
     "text": [
      "Balanced accuracy = 0.9021211611532022\n",
      "Cohen's Kappa = 0.860255159493083\n"
     ]
    }
   ],
   "source": [
    "from sklearn.metrics import balanced_accuracy_score, cohen_kappa_score\n",
    "\n",
    "# scikit-learn expects 0/1 predictions, so we threshold our raw predictions\n",
    "y_preds = np.where(raw_preds > 0.5, 1, 0)\n",
    "print(\"Balanced accuracy = {}\".format(balanced_accuracy_score(y_test, y_preds)))\n",
    "print(\"Cohen's Kappa = {}\".format(cohen_kappa_score(y_test, y_preds)))"
   ]
  },
  {
   "cell_type": "markdown",
   "metadata": {},
   "source": [
    "We can already see that our model performs very well in terms of both metrics, Cohen's Kappa scores above 0.8 are generally very favorable."
   ]
  },
  {
   "cell_type": "markdown",
   "metadata": {},
   "source": [
    "Apart from single-value metrics, it's also useful to look at metrics that indicate performance per class. A confusion matrix, and per-class precision, recall and f1-score can also provide more information about the model's performance."
   ]
  },
  {
   "cell_type": "code",
   "execution_count": 29,
   "metadata": {},
   "outputs": [],
   "source": [
    "import matplotlib.pyplot as plt\n",
    "import seaborn as sns\n",
    "from sklearn.metrics import confusion_matrix\n",
    "\n",
    "def plot_confusion_matrix(y_true, y_predicted):\n",
    "\n",
    "    cm  = confusion_matrix(y_true, y_predicted)\n",
    "    # Get the per-class normalized value for each cell\n",
    "    cm_norm = cm.astype('float') / cm.sum(axis=1)[:, np.newaxis]\n",
    "    \n",
    "    # We color each cell according to its normalized value, annotate with exact counts.\n",
    "    ax = sns.heatmap(cm_norm, annot=cm, fmt=\"d\")\n",
    "    ax.set(xticklabels=[\"non-fraud\", \"fraud\"], yticklabels=[\"non-fraud\", \"fraud\"])\n",
    "    ax.set_ylim([0,2])\n",
    "    plt.title('Confusion Matrix')\n",
    "    plt.ylabel('Real Classes')\n",
    "    plt.xlabel('Predicted Classes')\n",
    "    plt.show()"
   ]
  },
  {
   "cell_type": "code",
   "execution_count": 30,
   "metadata": {
    "pycharm": {
     "name": "#%%\n"
    }
   },
   "outputs": [
    {
     "data": {
      "image/png": "[encoded data removed]",
      "text/plain": [
       "<Figure size 640x480 with 2 Axes>"
      ]
     },
     "metadata": {},
     "output_type": "display_data"
    }
   ],
   "source": [
    "plot_confusion_matrix(y_test, y_preds)"
   ]
  },
  {
   "cell_type": "code",
   "execution_count": 31,
   "metadata": {
    "pycharm": {
     "name": "#%%\n"
    }
   },
   "outputs": [
    {
     "name": "stdout",
     "output_type": "stream",
     "text": [
      "              precision    recall  f1-score   support\n",
      "\n",
      "   non-fraud       1.00      1.00      1.00     28435\n",
      "       fraud       0.93      0.80      0.86        46\n",
      "\n",
      "    accuracy                           1.00     28481\n",
      "   macro avg       0.96      0.90      0.93     28481\n",
      "weighted avg       1.00      1.00      1.00     28481\n",
      "\n"
     ]
    }
   ],
   "source": [
    "from sklearn.metrics import classification_report\n",
    "\n",
    "print(classification_report(\n",
    "    y_test, y_preds, target_names=['non-fraud', 'fraud']))"
   ]
  },
  {
   "cell_type": "markdown",
   "metadata": {
    "pycharm": {
     "name": "#%% md\n"
    }
   },
   "source": [
    "### Keep sending test traffic to the endpoint via lambda"
   ]
  },
  {
   "cell_type": "markdown",
   "metadata": {},
   "source": [
    "**NOTE:**\n",
    "If you're running the solution within Studio, uncomment the next cell to set `force_traffic_generation` to True, in order to run a simulation that sends traffic to the REST API deployed with this solution. **Before you do this you will need to attach the execute-api:Invoke action to the role that’s assumed by this notebook.** Here’s what the permission statement block you should add looks like: \n",
    "\n",
    "```json\n",
    "{\n",
    "    \"Action\": [\n",
    "        \"execute-api:Invoke\"\n",
    "    ],\n",
    "    \"Resource\": [\n",
    "        \"arn:aws:execute-api:*:*:*/*/POST/*\"\n",
    "    ],\n",
    "   \"Effect\": \"Allow\"\n",
    "}\n",
    "```\n",
    "\n",
    "See the APIGateway IAM documentation page for more info: https://docs.aws.amazon.com/service-authorization/latest/reference/list_amazonapigateway.html on managing execute-api   permissions.\n"
   ]
  },
  {
   "cell_type": "code",
   "execution_count": 32,
   "metadata": {},
   "outputs": [],
   "source": [
    "force_traffic_generation = False\n",
    "#force_traffic_generation = True # If in Studio, set to True after you've updated you permissions"
   ]
  },
  {
   "cell_type": "markdown",
   "metadata": {},
   "source": [
    "We can now show how we could use both of these models in a production system, using HTTP requests to an AWS Lambda function that invokes both the unsupervised and the supervised SageMaker endpoints.\n",
    "\n",
    "We create a background thread that will constantly create HTTP requests to invoke the Lambda, using our test data as input. See the included `generate_endpoint_traffic.py` file to see how that is done.\n",
    "The output will be logged to an S3 bucket through Kinesis, and you can also observe it in the Lambda function's CloudWatch logs."
   ]
  },
  {
   "cell_type": "code",
   "execution_count": 33,
   "metadata": {},
   "outputs": [
    {
     "name": "stdout",
     "output_type": "stream",
     "text": [
      "Collecting aws_requests_auth\n",
      "  Using cached aws_requests_auth-0.4.3-py2.py3-none-any.whl.metadata (567 bytes)\n",
      "Requirement already satisfied: requests>=0.14.0 in /home/ec2-user/anaconda3/envs/python3/lib/python3.10/site-packages (from aws_requests_auth) (2.32.3)\n",
      "Requirement already satisfied: charset-normalizer<4,>=2 in /home/ec2-user/anaconda3/envs/python3/lib/python3.10/site-packages (from requests>=0.14.0->aws_requests_auth) (3.3.2)\n",
      "Requirement already satisfied: idna<4,>=2.5 in /home/ec2-user/anaconda3/envs/python3/lib/python3.10/site-packages (from requests>=0.14.0->aws_requests_auth) (3.7)\n",
      "Requirement already satisfied: urllib3<3,>=1.21.1 in /home/ec2-user/anaconda3/envs/python3/lib/python3.10/site-packages (from requests>=0.14.0->aws_requests_auth) (2.2.1)\n",
      "Requirement already satisfied: certifi>=2017.4.17 in /home/ec2-user/anaconda3/envs/python3/lib/python3.10/site-packages (from requests>=0.14.0->aws_requests_auth) (2024.6.2)\n",
      "Downloading aws_requests_auth-0.4.3-py2.py3-none-any.whl (6.8 kB)\n",
      "Installing collected packages: aws_requests_auth\n",
      "Successfully installed aws_requests_auth-0.4.3\n",
      "Note: you may need to restart the kernel to use updated packages.\n"
     ]
    }
   ],
   "source": [
    "pip install aws_requests_auth"
   ]
  },
  {
   "cell_type": "code",
   "execution_count": 34,
   "metadata": {},
   "outputs": [
    {
     "name": "stderr",
     "output_type": "stream",
     "text": [
      "INFO:botocore.credentials:Found credentials from IAM Role: BaseNotebookInstanceEc2InstanceRole\n",
      "INFO:botocore.credentials:Found credentials from IAM Role: BaseNotebookInstanceEc2InstanceRole\n"
     ]
    }
   ],
   "source": [
    "from threading import Thread\n",
    "from package.generate_endpoint_traffic import generate_traffic\n",
    "\n",
    "if config.SAGEMAKER_MODE == \"NotebookInstance\" or force_traffic_generation:\n",
    "    thread = Thread(target = generate_traffic, args=[np.copy(X_test)])\n",
    "    thread.start()\n"
   ]
  },
  {
   "cell_type": "markdown",
   "metadata": {},
   "source": [
    "After a few minutes you can monitor the function invocations in the following URL:"
   ]
  },
  {
   "cell_type": "code",
   "execution_count": 35,
   "metadata": {},
   "outputs": [
    {
     "name": "stdout",
     "output_type": "stream",
     "text": [
      "hello\n"
     ]
    },
    {
     "data": {
      "text/markdown": [
       "[Link to Lambda Monitoring](https://us-east-2.console.aws.amazon.com/lambda/home?region=us-east-2#/functions/sagemaker-soln-fdml-1-event-processor?tab=monitoring)"
      ],
      "text/plain": [
       "<IPython.core.display.Markdown object>"
      ]
     },
     "metadata": {},
     "output_type": "display_data"
    }
   ],
   "source": [
    "from IPython.display import display\n",
    "from IPython.display import Markdown as md\n",
    "if config.SAGEMAKER_MODE == \"NotebookInstance\" or force_traffic_generation:\n",
    "    print(\"hello\")\n",
    "    display(md(f\"[Link to Lambda Monitoring](https://{config.AWS_REGION}.console.aws.amazon.com/lambda/home?region={config.AWS_REGION}#/functions/{config.SOLUTION_PREFIX}-event-processor?tab=monitoring)\"))"
   ]
  },
  {
   "cell_type": "markdown",
   "metadata": {},
   "source": [
    "### SMOTE"
   ]
  },
  {
   "cell_type": "markdown",
   "metadata": {},
   "source": [
    "Now that we have a baseline model using XGBoost, we can try to see if sampling techniques that are designed specifically for imbalanced problems can improve the performance of the model.\n",
    "\n",
    "For that purpose we will be using the [imbalanced-learn](https://imbalanced-learn.readthedocs.io/en/stable/index.html) package that works well with scikit-learn. We have pre-installed the package for this kernel, but if you need it for a different Jupyter kernel you can install it by running `pip install --upgrade imbalanced-learn` within the conda environment you need.\n",
    "\n",
    "We will be using [Sythetic Minority Over-sampling](https://arxiv.org/abs/1106.1813) (SMOTE), which oversamples the minority class by interpolating new data points between existing ones."
   ]
  },
  {
   "cell_type": "code",
   "execution_count": 36,
   "metadata": {},
   "outputs": [
    {
     "name": "stdout",
     "output_type": "stream",
     "text": [
      "Collecting imblearn\n",
      "  Downloading imblearn-0.0-py2.py3-none-any.whl.metadata (355 bytes)\n",
      "Collecting imbalanced-learn (from imblearn)\n",
      "  Downloading imbalanced_learn-0.12.3-py3-none-any.whl.metadata (8.3 kB)\n",
      "Requirement already satisfied: numpy>=1.17.3 in /home/ec2-user/anaconda3/envs/python3/lib/python3.10/site-packages (from imbalanced-learn->imblearn) (1.22.4)\n",
      "Requirement already satisfied: scipy>=1.5.0 in /home/ec2-user/anaconda3/envs/python3/lib/python3.10/site-packages (from imbalanced-learn->imblearn) (1.13.1)\n",
      "Requirement already satisfied: scikit-learn>=1.0.2 in /home/ec2-user/anaconda3/envs/python3/lib/python3.10/site-packages (from imbalanced-learn->imblearn) (1.5.0)\n",
      "Requirement already satisfied: joblib>=1.1.1 in /home/ec2-user/anaconda3/envs/python3/lib/python3.10/site-packages (from imbalanced-learn->imblearn) (1.4.2)\n",
      "Requirement already satisfied: threadpoolctl>=2.0.0 in /home/ec2-user/anaconda3/envs/python3/lib/python3.10/site-packages (from imbalanced-learn->imblearn) (3.5.0)\n",
      "Downloading imblearn-0.0-py2.py3-none-any.whl (1.9 kB)\n",
      "Downloading imbalanced_learn-0.12.3-py3-none-any.whl (258 kB)\n",
      "\u001b[2K   \u001b[90m━━━━━━━━━━━━━━━━━━━━━━━━━━━━━━━━━━━━━━━━\u001b[0m \u001b[32m258.3/258.3 kB\u001b[0m \u001b[31m4.2 MB/s\u001b[0m eta \u001b[36m0:00:00\u001b[0ma \u001b[36m0:00:01\u001b[0m\n",
      "\u001b[?25hInstalling collected packages: imbalanced-learn, imblearn\n",
      "Successfully installed imbalanced-learn-0.12.3 imblearn-0.0\n"
     ]
    }
   ],
   "source": [
    "import sys\n",
    "!{sys.executable} -m pip install imblearn\n",
    "\n",
    "from imblearn.over_sampling import SMOTE\n",
    "\n",
    "smote = SMOTE(random_state=42)\n",
    "X_smote, y_smote = smote.fit_resample(X_train, y_train)"
   ]
  },
  {
   "cell_type": "markdown",
   "metadata": {
    "pycharm": {
     "name": "#%% md\n"
    }
   },
   "source": [
    "We can see that SMOTE has now balanced the two classes:"
   ]
  },
  {
   "cell_type": "code",
   "execution_count": 37,
   "metadata": {},
   "outputs": [
    {
     "name": "stdout",
     "output_type": "stream",
     "text": [
      "[(0.0, 255880), (1.0, 255880)]\n"
     ]
    }
   ],
   "source": [
    "from collections import Counter\n",
    "print(sorted(Counter(y_smote).items()))"
   ]
  },
  {
   "cell_type": "markdown",
   "metadata": {},
   "source": [
    "We note that this is a case of extreme oversampling of the the minority class, we went from ~0.17% to 50%. An alternative would be to use a smaller resampling ratio, such as having one minority cl\n",
    "ass sample for every `sqrt(non_fraud/fraud)` majority samples, or using more advanced resampling techniques. See the [comparison](https://imbalanced-learn.readthedocs.io/en/stable/auto_examples/over-sampling/plot_comparison_over_sampling.html#sphx-glr-auto-examples-over-sampling-plot-comparison-over-sampling-py) provided by imbalanced-learn for more over-sampling options."
   ]
  },
  {
   "cell_type": "markdown",
   "metadata": {
    "pycharm": {
     "name": "#%% md\n"
    }
   },
   "source": [
    "In our case we'll use the SMOTE dataset we just created and upload it to S3 for training."
   ]
  },
  {
   "cell_type": "code",
   "execution_count": 38,
   "metadata": {},
   "outputs": [
    {
     "name": "stdout",
     "output_type": "stream",
     "text": [
      "Uploaded training data location: s3://sagemaker-soln-fdml-1-152840014785-md/fraud-classifier/train/smote/fraud-dataset-smote\n",
      "Training artifacts will be uploaded to: s3://sagemaker-soln-fdml-1-152840014785-md/fraud-classifier/smote-output\n"
     ]
    }
   ],
   "source": [
    "smote_buf = io.BytesIO()\n",
    "\n",
    "# Dump the SMOTE data into a buffer\n",
    "sklearn.datasets.dump_svmlight_file(X_smote, y_smote, smote_buf)\n",
    "smote_buf.seek(0);\n",
    "\n",
    "# Upload from the buffer to S3\n",
    "key = 'fraud-dataset-smote'\n",
    "subdir = 'smote'\n",
    "boto3.resource('s3', region_name=config.AWS_REGION).Bucket(bucket).Object(os.path.join(prefix, 'train', subdir, key)).upload_fileobj(smote_buf)\n",
    "\n",
    "s3_smote_train_data = 's3://{}/{}/train/{}/{}'.format(bucket, prefix, subdir, key)\n",
    "print('Uploaded training data location: {}'.format(s3_smote_train_data))\n",
    "\n",
    "smote_output_location = 's3://{}/{}/smote-output'.format(bucket, prefix)\n",
    "print('Training artifacts will be uploaded to: {}'.format(smote_output_location))"
   ]
  },
  {
   "cell_type": "code",
   "execution_count": 39,
   "metadata": {},
   "outputs": [],
   "source": [
    "# No need to scale weights after SMOTE resampling, so we remove that parameter\n",
    "hyperparams.pop(\"scale_pos_weight\", None)\n",
    "smote_xgb = sagemaker.estimator.Estimator(xgboost_image_uri,\n",
    "                                        role=config.SAGEMAKER_IAM_ROLE,\n",
    "                                        hyperparameters=hyperparams,\n",
    "                                        instance_count=1, \n",
    "                                        instance_type=instance_type,\n",
    "                                        output_path=smote_output_location,\n",
    "                                        sagemaker_session=session,\n",
    "                                        base_job_name=\"{}-xgb-smote\".format(config.SOLUTION_PREFIX))"
   ]
  },
  {
   "cell_type": "markdown",
   "metadata": {
    "pycharm": {
     "name": "#%% md\n"
    }
   },
   "source": [
    "We are now ready to fit the model, which should take around 5 minutes to complete."
   ]
  },
  {
   "cell_type": "code",
   "execution_count": 40,
   "metadata": {},
   "outputs": [
    {
     "name": "stderr",
     "output_type": "stream",
     "text": [
      "INFO:sagemaker:Creating training-job with name: sagemaker-soln-fdml-1-xgb-smote-2024-07-30-18-38-11-409\n"
     ]
    },
    {
     "name": "stdout",
     "output_type": "stream",
     "text": [
      "2024-07-30 18:38:11 Starting - Starting the training job...\n",
      "2024-07-30 18:38:27 Starting - Preparing the instances for training...\n",
      "2024-07-30 18:38:49 Downloading - Downloading input data...\n",
      "2024-07-30 18:39:39 Downloading - Downloading the training image......\n",
      "2024-07-30 18:40:15 Training - Training image download completed. Training in progress.\u001b[34mINFO:sagemaker-containers:Imported framework sagemaker_xgboost_container.training\u001b[0m\n",
      "\u001b[34mINFO:sagemaker-containers:Failed to parse hyperparameter eval_metric value auc to Json.\u001b[0m\n",
      "\u001b[34mReturning the value itself\u001b[0m\n",
      "\u001b[34mINFO:sagemaker-containers:Failed to parse hyperparameter objective value binary:logistic to Json.\u001b[0m\n",
      "\u001b[34mReturning the value itself\u001b[0m\n",
      "\u001b[34mINFO:sagemaker-containers:No GPUs detected (normal if no gpus installed)\u001b[0m\n",
      "\u001b[34mINFO:sagemaker_xgboost_container.training:Running XGBoost Sagemaker in algorithm mode\u001b[0m\n",
      "\u001b[34m[18:40:22] 511760x30 matrix with 15349834 entries loaded from /opt/ml/input/data/train\u001b[0m\n",
      "\u001b[34mINFO:root:Single node training.\u001b[0m\n",
      "\u001b[34m[2024-07-30 18:40:22.372 ip-10-0-170-11.us-east-2.compute.internal:8 INFO json_config.py:90] Creating hook from json_config at /opt/ml/input/config/debughookconfig.json.\u001b[0m\n",
      "\u001b[34m[2024-07-30 18:40:22.373 ip-10-0-170-11.us-east-2.compute.internal:8 INFO hook.py:151] tensorboard_dir has not been set for the hook. SMDebug will not be exporting tensorboard summaries.\u001b[0m\n",
      "\u001b[34m[2024-07-30 18:40:22.373 ip-10-0-170-11.us-east-2.compute.internal:8 INFO hook.py:196] Saving to /opt/ml/output/tensors\u001b[0m\n",
      "\u001b[34mINFO:root:Debug hook created from config\u001b[0m\n",
      "\u001b[34mINFO:root:Train matrix has 511760 rows\u001b[0m\n",
      "\u001b[34m[0]#011train-auc:0.992298\u001b[0m\n",
      "\u001b[34m[2024-07-30 18:40:25.696 ip-10-0-170-11.us-east-2.compute.internal:8 INFO hook.py:325] Monitoring the collections: metrics\u001b[0m\n",
      "\u001b[34m[1]#011train-auc:0.993169\u001b[0m\n",
      "\u001b[34m[2]#011train-auc:0.993937\u001b[0m\n",
      "\u001b[34m[3]#011train-auc:0.994573\u001b[0m\n",
      "\u001b[34m[4]#011train-auc:0.994995\u001b[0m\n",
      "\u001b[34m[5]#011train-auc:0.996753\u001b[0m\n",
      "\u001b[34m[6]#011train-auc:0.997344\u001b[0m\n",
      "\u001b[34m[7]#011train-auc:0.997648\u001b[0m\n",
      "\u001b[34m[8]#011train-auc:0.998125\u001b[0m\n",
      "\u001b[34m[9]#011train-auc:0.998441\u001b[0m\n",
      "\u001b[34m[10]#011train-auc:0.998601\u001b[0m\n",
      "\u001b[34m[11]#011train-auc:0.99872\u001b[0m\n",
      "\u001b[34m[12]#011train-auc:0.998829\u001b[0m\n",
      "\u001b[34m[13]#011train-auc:0.998929\u001b[0m\n",
      "\u001b[34m[14]#011train-auc:0.999021\u001b[0m\n",
      "\u001b[34m[15]#011train-auc:0.999171\u001b[0m\n",
      "\u001b[34m[16]#011train-auc:0.999251\u001b[0m\n",
      "\u001b[34m[17]#011train-auc:0.999292\u001b[0m\n",
      "\u001b[34m[18]#011train-auc:0.99935\u001b[0m\n",
      "\u001b[34m[19]#011train-auc:0.999379\u001b[0m\n",
      "\u001b[34m[20]#011train-auc:0.999416\u001b[0m\n",
      "\u001b[34m[21]#011train-auc:0.999449\u001b[0m\n",
      "\u001b[34m[22]#011train-auc:0.999495\u001b[0m\n",
      "\u001b[34m[23]#011train-auc:0.999527\u001b[0m\n",
      "\u001b[34m[24]#011train-auc:0.999581\u001b[0m\n",
      "\u001b[34m[25]#011train-auc:0.999635\u001b[0m\n",
      "\u001b[34m[26]#011train-auc:0.999668\u001b[0m\n",
      "\u001b[34m[27]#011train-auc:0.999691\u001b[0m\n",
      "\u001b[34m[28]#011train-auc:0.999709\u001b[0m\n",
      "\u001b[34m[29]#011train-auc:0.999728\u001b[0m\n",
      "\u001b[34m[30]#011train-auc:0.999756\u001b[0m\n",
      "\u001b[34m[31]#011train-auc:0.999767\u001b[0m\n",
      "\u001b[34m[32]#011train-auc:0.999795\u001b[0m\n",
      "\u001b[34m[33]#011train-auc:0.999809\u001b[0m\n",
      "\u001b[34m[34]#011train-auc:0.999821\u001b[0m\n",
      "\u001b[34m[35]#011train-auc:0.99983\u001b[0m\n",
      "\u001b[34m[36]#011train-auc:0.999849\u001b[0m\n",
      "\u001b[34m[37]#011train-auc:0.999884\u001b[0m\n",
      "\u001b[34m[38]#011train-auc:0.999895\u001b[0m\n",
      "\u001b[34m[39]#011train-auc:0.999901\u001b[0m\n",
      "\u001b[34m[40]#011train-auc:0.999906\u001b[0m\n",
      "\u001b[34m[41]#011train-auc:0.999909\u001b[0m\n",
      "\u001b[34m[42]#011train-auc:0.99991\u001b[0m\n",
      "\u001b[34m[43]#011train-auc:0.999916\u001b[0m\n",
      "\u001b[34m[44]#011train-auc:0.999924\u001b[0m\n",
      "\u001b[34m[45]#011train-auc:0.999926\u001b[0m\n",
      "\u001b[34m[46]#011train-auc:0.999928\u001b[0m\n",
      "\u001b[34m[47]#011train-auc:0.99993\u001b[0m\n",
      "\u001b[34m[48]#011train-auc:0.999936\u001b[0m\n",
      "\u001b[34m[49]#011train-auc:0.999937\u001b[0m\n",
      "\u001b[34m[50]#011train-auc:0.999939\u001b[0m\n",
      "\u001b[34m[51]#011train-auc:0.999943\u001b[0m\n",
      "\u001b[34m[52]#011train-auc:0.999945\u001b[0m\n",
      "\u001b[34m[53]#011train-auc:0.999946\u001b[0m\n",
      "\u001b[34m[54]#011train-auc:0.999948\u001b[0m\n",
      "\u001b[34m[55]#011train-auc:0.999953\u001b[0m\n",
      "\u001b[34m[56]#011train-auc:0.999955\u001b[0m\n",
      "\u001b[34m[57]#011train-auc:0.999956\u001b[0m\n",
      "\u001b[34m[58]#011train-auc:0.999959\u001b[0m\n",
      "\u001b[34m[59]#011train-auc:0.99996\u001b[0m\n",
      "\u001b[34m[60]#011train-auc:0.99996\u001b[0m\n",
      "\u001b[34m[61]#011train-auc:0.999962\u001b[0m\n",
      "\u001b[34m[62]#011train-auc:0.999966\u001b[0m\n",
      "\u001b[34m[63]#011train-auc:0.999967\u001b[0m\n",
      "\u001b[34m[64]#011train-auc:0.999971\u001b[0m\n",
      "\u001b[34m[65]#011train-auc:0.999971\u001b[0m\n",
      "\u001b[34m[66]#011train-auc:0.999973\u001b[0m\n",
      "\u001b[34m[67]#011train-auc:0.999974\u001b[0m\n",
      "\u001b[34m[68]#011train-auc:0.999976\u001b[0m\n",
      "\u001b[34m[69]#011train-auc:0.999977\u001b[0m\n",
      "\u001b[34m[70]#011train-auc:0.999977\u001b[0m\n",
      "\u001b[34m[71]#011train-auc:0.999979\u001b[0m\n",
      "\u001b[34m[72]#011train-auc:0.999981\u001b[0m\n",
      "\u001b[34m[73]#011train-auc:0.999982\u001b[0m\n",
      "\u001b[34m[74]#011train-auc:0.999983\u001b[0m\n",
      "\u001b[34m[75]#011train-auc:0.999984\u001b[0m\n",
      "\u001b[34m[76]#011train-auc:0.999985\u001b[0m\n",
      "\u001b[34m[77]#011train-auc:0.999985\u001b[0m\n",
      "\u001b[34m[78]#011train-auc:0.999985\u001b[0m\n",
      "\u001b[34m[79]#011train-auc:0.999985\u001b[0m\n",
      "\u001b[34m[80]#011train-auc:0.999986\u001b[0m\n",
      "\u001b[34m[81]#011train-auc:0.999988\u001b[0m\n",
      "\u001b[34m[82]#011train-auc:0.999988\u001b[0m\n",
      "\u001b[34m[83]#011train-auc:0.999989\u001b[0m\n",
      "\u001b[34m[84]#011train-auc:0.999989\u001b[0m\n",
      "\u001b[34m[85]#011train-auc:0.999989\u001b[0m\n",
      "\u001b[34m[86]#011train-auc:0.99999\u001b[0m\n",
      "\u001b[34m[87]#011train-auc:0.99999\u001b[0m\n",
      "\u001b[34m[88]#011train-auc:0.999991\u001b[0m\n",
      "\u001b[34m[89]#011train-auc:0.999992\u001b[0m\n",
      "\u001b[34m[90]#011train-auc:0.999992\u001b[0m\n",
      "\u001b[34m[91]#011train-auc:0.999992\u001b[0m\n",
      "\u001b[34m[92]#011train-auc:0.999992\u001b[0m\n",
      "\u001b[34m[93]#011train-auc:0.999992\u001b[0m\n",
      "\u001b[34m[94]#011train-auc:0.999993\u001b[0m\n",
      "\u001b[34m[95]#011train-auc:0.999993\u001b[0m\n",
      "\u001b[34m[96]#011train-auc:0.999993\u001b[0m\n",
      "\u001b[34m[97]#011train-auc:0.999994\u001b[0m\n",
      "\u001b[34m[98]#011train-auc:0.999995\u001b[0m\n",
      "\u001b[34m[99]#011train-auc:0.999995\u001b[0m\n",
      "\n",
      "2024-07-30 18:43:44 Uploading - Uploading generated training model\n",
      "2024-07-30 18:43:44 Completed - Training job completed\n",
      "Training seconds: 295\n",
      "Billable seconds: 295\n"
     ]
    }
   ],
   "source": [
    "smote_xgb.fit({'train': s3_smote_train_data})"
   ]
  },
  {
   "cell_type": "markdown",
   "metadata": {},
   "source": [
    "After fitting the model we can check its performance to compare it against the base XGBoost model. The deployment will take around 10 minutes."
   ]
  },
  {
   "cell_type": "code",
   "execution_count": 45,
   "metadata": {
    "pycharm": {
     "name": "#%%\n"
    }
   },
   "outputs": [
    {
     "name": "stderr",
     "output_type": "stream",
     "text": [
      "INFO:sagemaker:Creating model with name: sagemaker-soln-fdml-1-xgb-smote\n",
      "INFO:sagemaker:Creating endpoint-config with name sagemaker-soln-fdml-1-xgb-smote\n",
      "INFO:sagemaker:Creating endpoint with name sagemaker-soln-fdml-1-xgb-smote\n"
     ]
    },
    {
     "name": "stdout",
     "output_type": "stream",
     "text": [
      "-----!"
     ]
    }
   ],
   "source": [
    "from sagemaker.serializers import CSVSerializer\n",
    "from sagemaker.deserializers import CSVDeserializer\n",
    "\n",
    "smote_predictor = smote_xgb.deploy(initial_instance_count=1,\n",
    "                                   model_name=\"{}-xgb-smote\".format(config.SOLUTION_PREFIX),\n",
    "                                   endpoint_name=\"{}-xgb-smote\".format(config.SOLUTION_PREFIX),\n",
    "                                   instance_type=instance_type)\n",
    "\n",
    "# Specify input and output formats.\n",
    "smote_predictor.content_type = 'text/csv'\n",
    "csv_serializer = CSVSerializer()\n",
    "smote_predictor.serializer = csv_serializer\n",
    "\n",
    "# Set the deserializer to handle the response from the inference endpoint\n",
    "#csv_deserializer = CSVDeserializer()\n",
    "#smote_predictor.deserializer = csv_deserializer"
   ]
  },
  {
   "cell_type": "code",
   "execution_count": 46,
   "metadata": {},
   "outputs": [],
   "source": [
    "smote_raw_preds = predict(smote_predictor, X_test)\n",
    "smote_preds = np.where(smote_raw_preds > 0.5, 1, 0)"
   ]
  },
  {
   "cell_type": "code",
   "execution_count": 47,
   "metadata": {
    "pycharm": {
     "name": "#%%\n"
    }
   },
   "outputs": [
    {
     "name": "stdout",
     "output_type": "stream",
     "text": [
      "Balanced accuracy = 0.9125511272849596\n",
      "Cohen's Kappa = 0.677958414473271\n"
     ]
    }
   ],
   "source": [
    "print(\"Balanced accuracy = {}\".format(balanced_accuracy_score(y_test, smote_preds)))\n",
    "print(\"Cohen's Kappa = {}\".format(cohen_kappa_score(y_test, smote_preds)))"
   ]
  },
  {
   "cell_type": "code",
   "execution_count": 48,
   "metadata": {
    "pycharm": {
     "name": "#%%\n"
    }
   },
   "outputs": [
    {
     "data": {
      "image/png": "[encoded data removed]",
      "text/plain": [
       "<Figure size 640x480 with 2 Axes>"
      ]
     },
     "metadata": {},
     "output_type": "display_data"
    }
   ],
   "source": [
    "plot_confusion_matrix(y_test, smote_preds)"
   ]
  },
  {
   "cell_type": "code",
   "execution_count": 49,
   "metadata": {},
   "outputs": [
    {
     "name": "stdout",
     "output_type": "stream",
     "text": [
      "              precision    recall  f1-score   support\n",
      "\n",
      "   non-fraud       1.00      1.00      1.00     28435\n",
      "       fraud       0.58      0.83      0.68        46\n",
      "\n",
      "    accuracy                           1.00     28481\n",
      "   macro avg       0.79      0.91      0.84     28481\n",
      "weighted avg       1.00      1.00      1.00     28481\n",
      "\n"
     ]
    }
   ],
   "source": [
    "print(classification_report(\n",
    "    y_test, smote_preds, target_names=['non-fraud', 'fraud']))"
   ]
  },
  {
   "cell_type": "markdown",
   "metadata": {},
   "source": [
    "Due to the randomness of XGBoost your results may vary, but overall, you should see a large increase in non-fraud cases being classified as fraud (false positives). The reason this happens is because SMOTE has oversampled the fraud class so much that it's increased its overlap in feature space with the non-fraud cases.\n",
    "Since Cohen's Kappa gives more weight to false positives than balanced accuracy does, the metric drops significantly, as does the precision and F1 score for fraud cases. However, we can bring a balance between the metrics again by adjusting our classification threshold."
   ]
  },
  {
   "cell_type": "markdown",
   "metadata": {},
   "source": [
    "So far we've been using 0.5 as the threshold between labeling a point as fraud or not. We can try different thresholds to see if they affect the result of the classification. To evaluate we'll use the balanced accuracy and Cohen's Kappa metrics."
   ]
  },
  {
   "cell_type": "code",
   "execution_count": 50,
   "metadata": {
    "pycharm": {
     "name": "#%%\n"
    }
   },
   "outputs": [
    {
     "name": "stdout",
     "output_type": "stream",
     "text": [
      "Threshold: 0.1\n",
      "Balanced accuracy = 0.922\n",
      "Cohen's Kappa = 0.390\n",
      "\n",
      "Threshold: 0.2\n",
      "Balanced accuracy = 0.923\n",
      "Cohen's Kappa = 0.533\n",
      "\n",
      "Threshold: 0.3\n",
      "Balanced accuracy = 0.923\n",
      "Cohen's Kappa = 0.604\n",
      "\n",
      "Threshold: 0.4\n",
      "Balanced accuracy = 0.912\n",
      "Cohen's Kappa = 0.660\n",
      "\n",
      "Threshold: 0.5\n",
      "Balanced accuracy = 0.913\n",
      "Cohen's Kappa = 0.678\n",
      "\n",
      "Threshold: 0.6\n",
      "Balanced accuracy = 0.913\n",
      "Cohen's Kappa = 0.745\n",
      "\n",
      "Threshold: 0.7\n",
      "Balanced accuracy = 0.902\n",
      "Cohen's Kappa = 0.779\n",
      "\n",
      "Threshold: 0.8\n",
      "Balanced accuracy = 0.902\n",
      "Cohen's Kappa = 0.813\n",
      "\n",
      "Threshold: 0.9\n",
      "Balanced accuracy = 0.902\n",
      "Cohen's Kappa = 0.850\n",
      "\n"
     ]
    }
   ],
   "source": [
    "for thres in np.linspace(0.1, 0.9, num=9):\n",
    "    smote_thres_preds = np.where(smote_raw_preds > thres, 1, 0)\n",
    "    print(\"Threshold: {:.1f}\".format(thres))\n",
    "    print(\"Balanced accuracy = {:.3f}\".format(balanced_accuracy_score(y_test, smote_thres_preds)))\n",
    "    print(\"Cohen's Kappa = {:.3f}\\n\".format(cohen_kappa_score(y_test, smote_thres_preds)))"
   ]
  },
  {
   "cell_type": "markdown",
   "metadata": {},
   "source": [
    "We see that Cohen's Kappa keeps increasing along with the threshold, without a significant loss in balanced accuracy. This adds a useful knob to our model: We can keep a low threshold if we care more about not missing any fraudulent cases, or we can increase the threshold to try to minimize the number of false positives."
   ]
  },
  {
   "cell_type": "markdown",
   "metadata": {},
   "source": [
    "## Clean up\n",
    "\n",
    "We will leave the unsupervised and base XGBoost endpoints running at the end of this notebook so we can handle incoming event streams using the Lambda function. The solution will automatically clean up the endpoints when deleted, however, don't forget to ensure the prediction endpoints are deleted when you're done. You can do that at the Amazon SageMaker console in the Endpoints page. Or you can run `predictor_name.delete_endpoint()` here."
   ]
  },
  {
   "cell_type": "code",
   "execution_count": null,
   "metadata": {},
   "outputs": [],
   "source": [
    "# Uncomment to clean up endpoints\n",
    "rcf_predictor.delete_model()\n",
    "rcf_predictor.delete_endpoint()\n",
    "predictor.delete_model()\n",
    "predictor.delete_endpoint()\n",
    "smote_predictor.delete_model()\n",
    "smote_predictor.delete_endpoint()\n",
    "sm_client = boto3.client('sagemaker', region_name=config.AWS_REGION)\n",
    "waiter = sm_client.get_waiter('endpoint_deleted')\n",
    "waiter.wait(EndpointName=\"{}-xgb-smote\".format(config.SOLUTION_PREFIX))\n",
    "waiter.wait(EndpointName=\"{}-xgb\".format(config.SOLUTION_PREFIX))\n",
    "waiter.wait(EndpointName=\"{}-rcf\".format(config.SOLUTION_PREFIX))\n"
   ]
  },
  {
   "cell_type": "markdown",
   "metadata": {},
   "source": [
    "\n",
    "## Data Acknowledgements\n",
    "\n",
    "The dataset used to demonstrated the fraud detection solution has been collected and analysed during a research collaboration of Worldline and the Machine Learning Group (http://mlg.ulb.ac.be) of ULB (Université Libre de Bruxelles) on big data mining and fraud detection. More details on current and past projects on related topics are available on https://www.researchgate.net/project/Fraud-detection-5 and the page of the [DefeatFraud](https://mlg.ulb.ac.be/wordpress/portfolio_page/defeatfraud-assessment-and-validation-of-deep-feature-engineering-and-learning-solutions-for-fraud-detection/) project\n",
    "We cite the following works:\n",
    "* Andrea Dal Pozzolo, Olivier Caelen, Reid A. Johnson and Gianluca Bontempi. Calibrating Probability with Undersampling for Unbalanced Classification. In Symposium on Computational Intelligence and Data Mining (CIDM), IEEE, 2015\n",
    "* Dal Pozzolo, Andrea; Caelen, Olivier; Le Borgne, Yann-Ael; Waterschoot, Serge; Bontempi, Gianluca. Learned lessons in credit card fraud detection from a practitioner perspective, Expert systems with applications,41,10,4915-4928,2014, Pergamon\n",
    "* Dal Pozzolo, Andrea; Boracchi, Giacomo; Caelen, Olivier; Alippi, Cesare; Bontempi, Gianluca. Credit card fraud detection: a realistic modeling and a novel learning strategy, IEEE transactions on neural networks and learning systems,29,8,3784-3797,2018,IEEE\n",
    "* Dal Pozzolo, Andrea Adaptive Machine learning for credit card fraud detection ULB MLG PhD thesis (supervised by G. Bontempi)\n",
    "* Carcillo, Fabrizio; Dal Pozzolo, Andrea; Le Borgne, Yann-Aël; Caelen, Olivier; Mazzer, Yannis; Bontempi, Gianluca. Scarff: a scalable framework for streaming credit card fraud detection with Spark, Information fusion,41, 182-194,2018,Elsevier\n",
    "* Carcillo, Fabrizio; Le Borgne, Yann-Aël; Caelen, Olivier; Bontempi, Gianluca. Streaming active learning strategies for real-life credit card fraud detection: assessment and visualization, International Journal of Data Science and Analytics, 5,4,285-300,2018,Springer International Publishing"
   ]
  }
 ],
 "metadata": {
  "kernelspec": {
   "display_name": "conda_python3",
   "language": "python",
   "name": "conda_python3"
  },
  "language_info": {
   "codemirror_mode": {
    "name": "ipython",
    "version": 3
   },
   "file_extension": ".py",
   "mimetype": "text/x-python",
   "name": "python",
   "nbconvert_exporter": "python",
   "pygments_lexer": "ipython3",
   "version": "3.10.14"
  }
 },
 "nbformat": 4,
 "nbformat_minor": 2
}
